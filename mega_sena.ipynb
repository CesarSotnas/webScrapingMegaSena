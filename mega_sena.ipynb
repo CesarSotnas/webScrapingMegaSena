{
 "cells": [
  {
   "cell_type": "code",
   "execution_count": 90,
   "metadata": {},
   "outputs": [
    {
     "name": "stderr",
     "output_type": "stream",
     "text": [
      "C:\\Users\\fdgce\\AppData\\Local\\Temp\\ipykernel_2984\\4077710135.py:10: DeprecationWarning: executable_path has been deprecated, please pass in a Service object\n",
      "  navegador = webdriver.Chrome(\"C:\\Program Files\\Google\\Chrome\\chromedriver.exe\")\n"
     ]
    },
    {
     "ename": "StaleElementReferenceException",
     "evalue": "Message: stale element reference: element is not attached to the page document\n  (Session info: chrome=107.0.5304.107)\nStacktrace:\nBacktrace:\n\tOrdinal0 [0x010D1ED3+2236115]\n\tOrdinal0 [0x010692F1+1807089]\n\tOrdinal0 [0x00F766FD+812797]\n\tOrdinal0 [0x00F792B4+823988]\n\tOrdinal0 [0x00F79165+823653]\n\tOrdinal0 [0x00F79AF5+826101]\n\tOrdinal0 [0x00FD6452+1205330]\n\tOrdinal0 [0x00FC1A8C+1120908]\n\tOrdinal0 [0x00FD59E2+1202658]\n\tOrdinal0 [0x00FC18A6+1120422]\n\tOrdinal0 [0x00F9A73D+960317]\n\tOrdinal0 [0x00F9B71F+964383]\n\tGetHandleVerifier [0x0137E7E2+2743074]\n\tGetHandleVerifier [0x013708D4+2685972]\n\tGetHandleVerifier [0x01162BAA+532202]\n\tGetHandleVerifier [0x01161990+527568]\n\tOrdinal0 [0x0107080C+1837068]\n\tOrdinal0 [0x01074CD8+1854680]\n\tOrdinal0 [0x01074DC5+1854917]\n\tOrdinal0 [0x0107ED64+1895780]\n\tBaseThreadInitThunk [0x75F9FEF9+25]\n\tRtlGetAppContainerNamedObjectPath [0x77AF7BBE+286]\n\tRtlGetAppContainerNamedObjectPath [0x77AF7B8E+238]\n",
     "output_type": "error",
     "traceback": [
      "\u001b[1;31m---------------------------------------------------------------------------\u001b[0m",
      "\u001b[1;31mStaleElementReferenceException\u001b[0m            Traceback (most recent call last)",
      "Cell \u001b[1;32mIn [90], line 28\u001b[0m\n\u001b[0;32m     25\u001b[0m navegador\u001b[39m.\u001b[39mfind_element(\u001b[39m'\u001b[39m\u001b[39mxpath\u001b[39m\u001b[39m'\u001b[39m, \u001b[39m'\u001b[39m\u001b[39m//*[@id=\u001b[39m\u001b[39m\"\u001b[39m\u001b[39mbuscaConcurso\u001b[39m\u001b[39m\"\u001b[39m\u001b[39m]\u001b[39m\u001b[39m'\u001b[39m)\u001b[39m.\u001b[39msend_keys(Keys\u001b[39m.\u001b[39mENTER)\n\u001b[0;32m     27\u001b[0m \u001b[39m# Inserindo os números nas variáveis \u001b[39;00m\n\u001b[1;32m---> 28\u001b[0m num1 \u001b[39m=\u001b[39m navegador\u001b[39m.\u001b[39;49mfind_element(\u001b[39m'\u001b[39;49m\u001b[39mxpath\u001b[39;49m\u001b[39m'\u001b[39;49m, \u001b[39m'\u001b[39;49m\u001b[39m//*[@id=\u001b[39;49m\u001b[39m\"\u001b[39;49m\u001b[39mulDezenas\u001b[39;49m\u001b[39m\"\u001b[39;49m\u001b[39m]/li[1]\u001b[39;49m\u001b[39m'\u001b[39;49m)\u001b[39m.\u001b[39;49mget_attribute(\u001b[39m'\u001b[39;49m\u001b[39minnerText\u001b[39;49m\u001b[39m'\u001b[39;49m)\n\u001b[0;32m     29\u001b[0m num2 \u001b[39m=\u001b[39m navegador\u001b[39m.\u001b[39mfind_element(\u001b[39m'\u001b[39m\u001b[39mxpath\u001b[39m\u001b[39m'\u001b[39m, \u001b[39m'\u001b[39m\u001b[39m//*[@id=\u001b[39m\u001b[39m\"\u001b[39m\u001b[39mulDezenas\u001b[39m\u001b[39m\"\u001b[39m\u001b[39m]/li[2]\u001b[39m\u001b[39m'\u001b[39m)\u001b[39m.\u001b[39mget_attribute(\u001b[39m'\u001b[39m\u001b[39minnerText\u001b[39m\u001b[39m'\u001b[39m)\n\u001b[0;32m     30\u001b[0m num3 \u001b[39m=\u001b[39m navegador\u001b[39m.\u001b[39mfind_element(\u001b[39m'\u001b[39m\u001b[39mxpath\u001b[39m\u001b[39m'\u001b[39m, \u001b[39m'\u001b[39m\u001b[39m//*[@id=\u001b[39m\u001b[39m\"\u001b[39m\u001b[39mulDezenas\u001b[39m\u001b[39m\"\u001b[39m\u001b[39m]/li[3]\u001b[39m\u001b[39m'\u001b[39m)\u001b[39m.\u001b[39mget_attribute(\u001b[39m'\u001b[39m\u001b[39minnerText\u001b[39m\u001b[39m'\u001b[39m)\n",
      "File \u001b[1;32mc:\\Users\\fdgce\\AppData\\Local\\Programs\\Python\\Python310\\lib\\site-packages\\selenium\\webdriver\\remote\\webelement.py:172\u001b[0m, in \u001b[0;36mWebElement.get_attribute\u001b[1;34m(self, name)\u001b[0m\n\u001b[0;32m    170\u001b[0m \u001b[39mif\u001b[39;00m getAttribute_js \u001b[39mis\u001b[39;00m \u001b[39mNone\u001b[39;00m:\n\u001b[0;32m    171\u001b[0m     _load_js()\n\u001b[1;32m--> 172\u001b[0m attribute_value \u001b[39m=\u001b[39m \u001b[39mself\u001b[39;49m\u001b[39m.\u001b[39;49mparent\u001b[39m.\u001b[39;49mexecute_script(\n\u001b[0;32m    173\u001b[0m     \u001b[39m\"\u001b[39;49m\u001b[39mreturn (\u001b[39;49m\u001b[39m%s\u001b[39;49;00m\u001b[39m).apply(null, arguments);\u001b[39;49m\u001b[39m\"\u001b[39;49m \u001b[39m%\u001b[39;49m getAttribute_js,\n\u001b[0;32m    174\u001b[0m     \u001b[39mself\u001b[39;49m, name)\n\u001b[0;32m    175\u001b[0m \u001b[39mreturn\u001b[39;00m attribute_value\n",
      "File \u001b[1;32mc:\\Users\\fdgce\\AppData\\Local\\Programs\\Python\\Python310\\lib\\site-packages\\selenium\\webdriver\\remote\\webdriver.py:492\u001b[0m, in \u001b[0;36mWebDriver.execute_script\u001b[1;34m(self, script, *args)\u001b[0m\n\u001b[0;32m    489\u001b[0m converted_args \u001b[39m=\u001b[39m \u001b[39mlist\u001b[39m(args)\n\u001b[0;32m    490\u001b[0m command \u001b[39m=\u001b[39m Command\u001b[39m.\u001b[39mW3C_EXECUTE_SCRIPT\n\u001b[1;32m--> 492\u001b[0m \u001b[39mreturn\u001b[39;00m \u001b[39mself\u001b[39;49m\u001b[39m.\u001b[39;49mexecute(command, {\n\u001b[0;32m    493\u001b[0m     \u001b[39m'\u001b[39;49m\u001b[39mscript\u001b[39;49m\u001b[39m'\u001b[39;49m: script,\n\u001b[0;32m    494\u001b[0m     \u001b[39m'\u001b[39;49m\u001b[39margs\u001b[39;49m\u001b[39m'\u001b[39;49m: converted_args})[\u001b[39m'\u001b[39m\u001b[39mvalue\u001b[39m\u001b[39m'\u001b[39m]\n",
      "File \u001b[1;32mc:\\Users\\fdgce\\AppData\\Local\\Programs\\Python\\Python310\\lib\\site-packages\\selenium\\webdriver\\remote\\webdriver.py:429\u001b[0m, in \u001b[0;36mWebDriver.execute\u001b[1;34m(self, driver_command, params)\u001b[0m\n\u001b[0;32m    427\u001b[0m response \u001b[39m=\u001b[39m \u001b[39mself\u001b[39m\u001b[39m.\u001b[39mcommand_executor\u001b[39m.\u001b[39mexecute(driver_command, params)\n\u001b[0;32m    428\u001b[0m \u001b[39mif\u001b[39;00m response:\n\u001b[1;32m--> 429\u001b[0m     \u001b[39mself\u001b[39;49m\u001b[39m.\u001b[39;49merror_handler\u001b[39m.\u001b[39;49mcheck_response(response)\n\u001b[0;32m    430\u001b[0m     response[\u001b[39m'\u001b[39m\u001b[39mvalue\u001b[39m\u001b[39m'\u001b[39m] \u001b[39m=\u001b[39m \u001b[39mself\u001b[39m\u001b[39m.\u001b[39m_unwrap_value(\n\u001b[0;32m    431\u001b[0m         response\u001b[39m.\u001b[39mget(\u001b[39m'\u001b[39m\u001b[39mvalue\u001b[39m\u001b[39m'\u001b[39m, \u001b[39mNone\u001b[39;00m))\n\u001b[0;32m    432\u001b[0m     \u001b[39mreturn\u001b[39;00m response\n",
      "File \u001b[1;32mc:\\Users\\fdgce\\AppData\\Local\\Programs\\Python\\Python310\\lib\\site-packages\\selenium\\webdriver\\remote\\errorhandler.py:243\u001b[0m, in \u001b[0;36mErrorHandler.check_response\u001b[1;34m(self, response)\u001b[0m\n\u001b[0;32m    241\u001b[0m         alert_text \u001b[39m=\u001b[39m value[\u001b[39m'\u001b[39m\u001b[39malert\u001b[39m\u001b[39m'\u001b[39m]\u001b[39m.\u001b[39mget(\u001b[39m'\u001b[39m\u001b[39mtext\u001b[39m\u001b[39m'\u001b[39m)\n\u001b[0;32m    242\u001b[0m     \u001b[39mraise\u001b[39;00m exception_class(message, screen, stacktrace, alert_text)  \u001b[39m# type: ignore[call-arg]  # mypy is not smart enough here\u001b[39;00m\n\u001b[1;32m--> 243\u001b[0m \u001b[39mraise\u001b[39;00m exception_class(message, screen, stacktrace)\n",
      "\u001b[1;31mStaleElementReferenceException\u001b[0m: Message: stale element reference: element is not attached to the page document\n  (Session info: chrome=107.0.5304.107)\nStacktrace:\nBacktrace:\n\tOrdinal0 [0x010D1ED3+2236115]\n\tOrdinal0 [0x010692F1+1807089]\n\tOrdinal0 [0x00F766FD+812797]\n\tOrdinal0 [0x00F792B4+823988]\n\tOrdinal0 [0x00F79165+823653]\n\tOrdinal0 [0x00F79AF5+826101]\n\tOrdinal0 [0x00FD6452+1205330]\n\tOrdinal0 [0x00FC1A8C+1120908]\n\tOrdinal0 [0x00FD59E2+1202658]\n\tOrdinal0 [0x00FC18A6+1120422]\n\tOrdinal0 [0x00F9A73D+960317]\n\tOrdinal0 [0x00F9B71F+964383]\n\tGetHandleVerifier [0x0137E7E2+2743074]\n\tGetHandleVerifier [0x013708D4+2685972]\n\tGetHandleVerifier [0x01162BAA+532202]\n\tGetHandleVerifier [0x01161990+527568]\n\tOrdinal0 [0x0107080C+1837068]\n\tOrdinal0 [0x01074CD8+1854680]\n\tOrdinal0 [0x01074DC5+1854917]\n\tOrdinal0 [0x0107ED64+1895780]\n\tBaseThreadInitThunk [0x75F9FEF9+25]\n\tRtlGetAppContainerNamedObjectPath [0x77AF7BBE+286]\n\tRtlGetAppContainerNamedObjectPath [0x77AF7B8E+238]\n"
     ]
    }
   ],
   "source": [
    "#Importando bibliotecas \n",
    "\n",
    "from selenium import webdriver\n",
    "from selenium.webdriver.common.keys import Keys\n",
    "from selenium.webdriver.common.by import By\n",
    "import pandas as pd\n",
    "\n",
    "# WebDrive\n",
    "navegador = webdriver.Chrome(\"C:\\Program Files\\Google\\Chrome\\chromedriver.exe\")\n",
    "navegador.get(\"https://loterias.caixa.gov.br/Paginas/Mega-Sena.aspx\")\n",
    "\n",
    "# Criando dataframe\n",
    "resultado = pd.DataFrame(columns = [\"Data\", \"Sorteio\", \"Num 1\", \"Num 2\", \"Num 3\", \"Num 4\", \"Num 5\", \"Num 6\"])\n",
    "\n",
    "# Encontrando o último sorteio\n",
    "dados = navegador.find_element('xpath', '//*[@id=\"wp_resultados\"]/div[1]/div/h2/span').get_attribute('innerText')\n",
    "sorteio = int(dados[9:13])\n",
    " \n",
    "# Comando de repetição para fazer a busca desde o primeiro sorteio\n",
    "for cont in range(sorteio):\n",
    "\n",
    "    # Inserindo informação no campo de busca dos sorteios\n",
    "    navegador.find_element('xpath', '//*[@id=\"buscaConcurso\"]').clear()\n",
    "    navegador.find_element('xpath', '//*[@id=\"buscaConcurso\"]').send_keys(cont)\n",
    "    navegador.find_element('xpath', '//*[@id=\"buscaConcurso\"]').send_keys(Keys.ENTER)\n",
    "    \n",
    "    # Inserindo os números nas variáveis \n",
    "    num1 = navegador.find_element('xpath', '//*[@id=\"ulDezenas\"]/li[1]').get_attribute('innerText')\n",
    "    num2 = navegador.find_element('xpath', '//*[@id=\"ulDezenas\"]/li[2]').get_attribute('innerText')\n",
    "    num3 = navegador.find_element('xpath', '//*[@id=\"ulDezenas\"]/li[3]').get_attribute('innerText')\n",
    "    num4 = navegador.find_element('xpath', '//*[@id=\"ulDezenas\"]/li[4]').get_attribute('innerText')\n",
    "    num5 = navegador.find_element('xpath', '//*[@id=\"ulDezenas\"]/li[5]').get_attribute('innerText')\n",
    "    num6 = navegador.find_element('xpath', '//*[@id=\"ulDezenas\"]/li[6]').get_attribute('innerText')\n",
    "   \n",
    "    dados = navegador.find_element('xpath', '//*[@id=\"wp_resultados\"]/div[1]/div/h2/span').get_attribute('innerText')\n",
    "    data = dados[-11:-1]\n",
    "    \n",
    "    # Até 0 9º sorteio len = 23\n",
    "    if len(dados) == 23:\n",
    "        sorteio = int(dados[9])\n",
    "    \n",
    "    # Até 0 99º sorteio len = 24\n",
    "    elif len(dados) == 24:\n",
    "        sorteio = int(dados[9:11])\n",
    "    \n",
    "    # Até 0 99º sorteio len = 25\n",
    "    elif len(dados) == 25:\n",
    "        sorteio = int(dados[9:12])\n",
    "    \n",
    "    # Acima de 999 len = 26\n",
    "    elif len(dados) == 26:\n",
    "        sorteio = int(dados[9:13])\n",
    "\n",
    "    # Inserindo os dados no dataframe\n",
    "    resultado.loc[len(resultado)] = [data, sorteio, num1, num2, num3, num4, num5, num6]\n"
   ]
  },
  {
   "cell_type": "code",
   "execution_count": 91,
   "metadata": {},
   "outputs": [
    {
     "data": {
      "text/html": [
       "<div>\n",
       "<style scoped>\n",
       "    .dataframe tbody tr th:only-of-type {\n",
       "        vertical-align: middle;\n",
       "    }\n",
       "\n",
       "    .dataframe tbody tr th {\n",
       "        vertical-align: top;\n",
       "    }\n",
       "\n",
       "    .dataframe thead th {\n",
       "        text-align: right;\n",
       "    }\n",
       "</style>\n",
       "<table border=\"1\" class=\"dataframe\">\n",
       "  <thead>\n",
       "    <tr style=\"text-align: right;\">\n",
       "      <th></th>\n",
       "      <th>Data</th>\n",
       "      <th>Sorteio</th>\n",
       "      <th>Num 1</th>\n",
       "      <th>Num 2</th>\n",
       "      <th>Num 3</th>\n",
       "      <th>Num 4</th>\n",
       "      <th>Num 5</th>\n",
       "      <th>Num 6</th>\n",
       "    </tr>\n",
       "  </thead>\n",
       "  <tbody>\n",
       "    <tr>\n",
       "      <th>0</th>\n",
       "      <td>16/11/2022</td>\n",
       "      <td>2539</td>\n",
       "      <td>01</td>\n",
       "      <td>23</td>\n",
       "      <td>32</td>\n",
       "      <td>33</td>\n",
       "      <td>36</td>\n",
       "      <td>59</td>\n",
       "    </tr>\n",
       "  </tbody>\n",
       "</table>\n",
       "</div>"
      ],
      "text/plain": [
       "         Data  Sorteio Num 1 Num 2 Num 3 Num 4 Num 5 Num 6\n",
       "0  16/11/2022     2539    01    23    32    33    36    59"
      ]
     },
     "execution_count": 91,
     "metadata": {},
     "output_type": "execute_result"
    }
   ],
   "source": [
    "resultado.head()"
   ]
  },
  {
   "cell_type": "code",
   "execution_count": null,
   "metadata": {},
   "outputs": [],
   "source": []
  }
 ],
 "metadata": {
  "kernelspec": {
   "display_name": "Python 3.10.7 64-bit",
   "language": "python",
   "name": "python3"
  },
  "language_info": {
   "codemirror_mode": {
    "name": "ipython",
    "version": 3
   },
   "file_extension": ".py",
   "mimetype": "text/x-python",
   "name": "python",
   "nbconvert_exporter": "python",
   "pygments_lexer": "ipython3",
   "version": "3.10.7"
  },
  "orig_nbformat": 4,
  "vscode": {
   "interpreter": {
    "hash": "99bf3107952ea242b5decbdfafbbd4117feaebf715574d2cdb3a3b952b6a1e5a"
   }
  }
 },
 "nbformat": 4,
 "nbformat_minor": 2
}
