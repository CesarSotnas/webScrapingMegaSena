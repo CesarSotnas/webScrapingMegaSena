{
 "cells": [
  {
   "cell_type": "code",
   "execution_count": 7,
   "metadata": {},
   "outputs": [
    {
     "name": "stderr",
     "output_type": "stream",
     "text": [
      "C:\\Users\\fdgce\\AppData\\Local\\Temp\\ipykernel_2984\\2349552196.py:11: DeprecationWarning: executable_path has been deprecated, please pass in a Service object\n",
      "  navegador = webdriver.Chrome(\"C:\\Program Files\\Google\\Chrome\\chromedriver.exe\")\n"
     ]
    }
   ],
   "source": [
    "#Importando bibliotecas \n",
    "\n",
    "from selenium import webdriver\n",
    "from selenium.webdriver.common.keys import Keys\n",
    "from selenium.webdriver.common.by import By\n",
    "import pandas as pd\n",
    "import re\n",
    "\n",
    "\n",
    "# WebDrive\n",
    "navegador = webdriver.Chrome(\"C:\\Program Files\\Google\\Chrome\\chromedriver.exe\")\n",
    "\n",
    "navegador.get(\"https://loterias.caixa.gov.br/Paginas/Mega-Sena.aspx\")\n",
    "\n",
    "# Encontrando o último sorteio\n",
    "dados = navegador.find_element('xpath', '//*[@id=\"wp_resultados\"]/div[1]/div/h2/span').get_attribute('innerText')\n",
    "sorteio = int(dados[9:13])\n",
    "data = dados[-11:-1]\n",
    " \n",
    "# Inserindo os números nas variáveis \n",
    "num1 = navegador.find_element('xpath', '//*[@id=\"ulDezenas\"]/li[1]').get_attribute('innerText')\n",
    "num2 = navegador.find_element('xpath', '//*[@id=\"ulDezenas\"]/li[2]').get_attribute('innerText')\n",
    "num3 = navegador.find_element('xpath', '//*[@id=\"ulDezenas\"]/li[3]').get_attribute('innerText')\n",
    "num4 = navegador.find_element('xpath', '//*[@id=\"ulDezenas\"]/li[4]').get_attribute('innerText')\n",
    "num5 = navegador.find_element('xpath', '//*[@id=\"ulDezenas\"]/li[5]').get_attribute('innerText')\n",
    "num6 = navegador.find_element('xpath', '//*[@id=\"ulDezenas\"]/li[6]').get_attribute('innerText')\n",
    "\n",
    "# Comando de repetição para fazer a busca desde o primeiro sorteio"
   ]
  },
  {
   "cell_type": "code",
   "execution_count": 5,
   "metadata": {},
   "outputs": [],
   "source": [
    "# Criando dataframe e inserindo os números\n",
    "resultado = pd.DataFrame(columns = [\"Data\", \"Sorteio\", \"Num 1\", \"Num 2\", \"Num 3\", \"Num 4\", \"Num 5\", \"Num 6\"])\n",
    "resultado.loc[len(resultado)] = [data, sorteio, num1, num2, num3, num4, num5, num6]"
   ]
  },
  {
   "cell_type": "code",
   "execution_count": 6,
   "metadata": {},
   "outputs": [
    {
     "data": {
      "text/html": [
       "<div>\n",
       "<style scoped>\n",
       "    .dataframe tbody tr th:only-of-type {\n",
       "        vertical-align: middle;\n",
       "    }\n",
       "\n",
       "    .dataframe tbody tr th {\n",
       "        vertical-align: top;\n",
       "    }\n",
       "\n",
       "    .dataframe thead th {\n",
       "        text-align: right;\n",
       "    }\n",
       "</style>\n",
       "<table border=\"1\" class=\"dataframe\">\n",
       "  <thead>\n",
       "    <tr style=\"text-align: right;\">\n",
       "      <th></th>\n",
       "      <th>Data</th>\n",
       "      <th>Sorteio</th>\n",
       "      <th>Num 1</th>\n",
       "      <th>Num 2</th>\n",
       "      <th>Num 3</th>\n",
       "      <th>Num 4</th>\n",
       "      <th>Num 5</th>\n",
       "      <th>Num 6</th>\n",
       "    </tr>\n",
       "  </thead>\n",
       "  <tbody>\n",
       "    <tr>\n",
       "      <th>0</th>\n",
       "      <td>16/11/2022</td>\n",
       "      <td>2539</td>\n",
       "      <td>01</td>\n",
       "      <td>23</td>\n",
       "      <td>32</td>\n",
       "      <td>33</td>\n",
       "      <td>36</td>\n",
       "      <td>59</td>\n",
       "    </tr>\n",
       "  </tbody>\n",
       "</table>\n",
       "</div>"
      ],
      "text/plain": [
       "         Data  Sorteio Num 1 Num 2 Num 3 Num 4 Num 5 Num 6\n",
       "0  16/11/2022     2539    01    23    32    33    36    59"
      ]
     },
     "execution_count": 6,
     "metadata": {},
     "output_type": "execute_result"
    }
   ],
   "source": [
    "resultado.head()"
   ]
  },
  {
   "cell_type": "code",
   "execution_count": null,
   "metadata": {},
   "outputs": [],
   "source": []
  },
  {
   "cell_type": "code",
   "execution_count": null,
   "metadata": {},
   "outputs": [],
   "source": []
  },
  {
   "cell_type": "code",
   "execution_count": null,
   "metadata": {},
   "outputs": [],
   "source": []
  }
 ],
 "metadata": {
  "kernelspec": {
   "display_name": "Python 3.10.7 64-bit",
   "language": "python",
   "name": "python3"
  },
  "language_info": {
   "codemirror_mode": {
    "name": "ipython",
    "version": 3
   },
   "file_extension": ".py",
   "mimetype": "text/x-python",
   "name": "python",
   "nbconvert_exporter": "python",
   "pygments_lexer": "ipython3",
   "version": "3.10.7"
  },
  "orig_nbformat": 4,
  "vscode": {
   "interpreter": {
    "hash": "99bf3107952ea242b5decbdfafbbd4117feaebf715574d2cdb3a3b952b6a1e5a"
   }
  }
 },
 "nbformat": 4,
 "nbformat_minor": 2
}
