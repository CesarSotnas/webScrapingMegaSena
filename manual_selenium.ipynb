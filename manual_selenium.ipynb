{
 "cells": [
  {
   "cell_type": "markdown",
   "metadata": {},
   "source": [
    "## Instalação:"
   ]
  },
  {
   "cell_type": "markdown",
   "metadata": {},
   "source": [
    "Para a instalar a biblioteca do Selenium e Webdriver Manager abra o prompt de comando e execute o comando:\n"
   ]
  },
  {
   "cell_type": "markdown",
   "metadata": {},
   "source": [
    "```\n",
    "pip install --upgrade selenium\n",
    "```\n",
    "\n",
    "```\n",
    "pip install webdriver_manager\n",
    "```"
   ]
  },
  {
   "cell_type": "markdown",
   "metadata": {},
   "source": [
    "Documentação selenium: https://selenium-python.readthedocs.io/index.html"
   ]
  },
  {
   "cell_type": "markdown",
   "metadata": {},
   "source": [
    "Sempre verifique a versão do Chrome instalado na sua máquina em: ajuda > Sobre o Google Chrome. <br>\n",
    "Baixar a versão do webdriver correspondente a que você esteja utilizando no Chrome:<br>\n",
    "https://chromedriver.chromium.org/downloads"
   ]
  },
  {
   "cell_type": "code",
   "execution_count": null,
   "metadata": {},
   "outputs": [],
   "source": [
    "# Importando as bibliotecas \n",
    "from selenium import webdriver\n",
    "from selenium.webdriver.chrome.service import Service\n",
    "from selenium.webdriver.common.keys import Keys\n",
    "from webdriver_manager.chrome import ChromeDriverManager\n",
    "import pandas as pd\n",
    "from selenium.webdriver.common.by import By # classe BY\n",
    "\n",
    "# Abrindo navegador e selecionando chromedriver.exe na pasta local do computador\n",
    "navegador = webdriver.Chrome('C:\\Program Files\\Google\\Chrome\\chromedriver.exe')\n",
    "\n",
    "# Abrindo o site desejado - Mega Sena\n",
    "link = ('https://loterias.caixa.gov.br/Paginas/Mega-Sena.aspx')\n",
    "navegador.get(link)"
   ]
  },
  {
   "cell_type": "markdown",
   "metadata": {},
   "source": [
    "A classe By serve para que possamos indentificar o elemento dentro do HTML. \n",
    "Existem várias formas de encontrar o elemento:\n",
    "```\n",
    "ID = \"id\"\n",
    "NAME = \"name\"\n",
    "XPATH = \"xpath\"\n",
    "LINK_TEXT = \"link text\"\n",
    "PARTIAL_LINK_TEXT = \"partial link text\"\n",
    "TAG_NAME = \"tag name\"\n",
    "CLASS_NAME = \"class name\"\n",
    "CSS_SELECTOR = \"css selector\"\n",
    "```"
   ]
  },
  {
   "cell_type": "markdown",
   "metadata": {},
   "source": [
    "Exemplos:\n",
    "```\n",
    "find_element(By.ID, \"id\")\n",
    "find_element(By.NAME, \"name\")\n",
    "find_element(By.XPATH, \"xpath\")\n",
    "find_element(By.LINK_TEXT, \"link text\")\n",
    "find_element(By.PARTIAL_LINK_TEXT, \"partial link text\")\n",
    "find_element(By.TAG_NAME, \"tag name\")\n",
    "find_element(By.CLASS_NAME, \"class name\")\n",
    "find_element(By.CSS_SELECTOR, \"css selector\")\n",
    "```"
   ]
  },
  {
   "cell_type": "code",
   "execution_count": null,
   "metadata": {},
   "outputs": [],
   "source": [
    "# Pegando os campos do HTML pelo Xpath\n",
    "\n",
    "# Informações sobre concurso e data\n",
    "info_concurso = navegador.find_element(By.XPATH, '//*[@id=\"wp_resultados\"]/div[1]/div/h2/span').text\n",
    "\n",
    "# PCriando array vazio para pegar as dezenas\n",
    "numeros = ['', '', '', '', '', ''] \n",
    "j = 0\n",
    "\n",
    "for i in range(6):\n",
    "    i = i+1\n",
    "    numeros[j] = navegador.find_element(By.XPATH, f'//*[@id=\"ulDezenas\"]/li[{i}]').text\n",
    "    j = j+1"
   ]
  },
  {
   "cell_type": "markdown",
   "metadata": {},
   "source": [
    "Pegamos a string com concurso e data, transformamos a informação, dividimos e colocamos em variáveis:"
   ]
  },
  {
   "cell_type": "code",
   "execution_count": null,
   "metadata": {},
   "outputs": [],
   "source": [
    "concurso = info_concurso[9:13]\n",
    "data = info_concurso[-11:-1]"
   ]
  },
  {
   "cell_type": "code",
   "execution_count": null,
   "metadata": {},
   "outputs": [],
   "source": [
    "print(info_concurso)\n",
    "print(\"Dezenas:\", numeros)\n",
    "print(\"Concurso:\", concurso)\n",
    "print(\"Data:\", data)\n"
   ]
  },
  {
   "cell_type": "markdown",
   "metadata": {},
   "source": [
    "Com as informações sobre concurso, data e dezenas, vamos criar nosso Data Frame:"
   ]
  },
  {
   "cell_type": "code",
   "execution_count": null,
   "metadata": {},
   "outputs": [],
   "source": [
    "sorteios = pd.DataFrame(columns = [\"Data\", \"Concurso\", \"Num 1\", \"Num 2\", \"Num 3\", \"Num 4\", \"Num 5\", \"Num 6\"])\n",
    "sorteios"
   ]
  },
  {
   "cell_type": "markdown",
   "metadata": {},
   "source": [
    "Inserindo as informações no Data Frame\n"
   ]
  },
  {
   "cell_type": "code",
   "execution_count": null,
   "metadata": {},
   "outputs": [],
   "source": [
    "sorteios.loc[len(sorteios)] = [data, concurso, numeros[0], numeros[1], numeros[2], numeros[3], numeros[4], numeros[5]]\n",
    "sorteios"
   ]
  },
  {
   "cell_type": "markdown",
   "metadata": {},
   "source": [
    "Vamos navegar pelo HTML e selecionar o resultado de outro concurso:"
   ]
  },
  {
   "cell_type": "code",
   "execution_count": null,
   "metadata": {},
   "outputs": [],
   "source": [
    "numero_sorteio = 1000\n",
    "\n",
    "# Comando para clicar na caixa de busca dos sorteios\n",
    "navegador.find_element(By.XPATH, '//*[@id=\"buscaConcurso\"]').click()\n",
    "\n",
    "# Comando para escrever na caixa de busca e pressionar enter\n",
    "navegador.find_element(By.XPATH, '//*[@id=\"buscaConcurso\"]').send_keys(numero_sorteio, Keys.ENTER)"
   ]
  },
  {
   "cell_type": "code",
   "execution_count": null,
   "metadata": {},
   "outputs": [],
   "source": [
    "# Informações sobre concurso e data\n",
    "info_concurso = navegador.find_element(By.XPATH, '//*[@id=\"wp_resultados\"]/div[1]/div/h2/span').text\n",
    "\n",
    "# zerando nosso contador da lista de números\n",
    "j = 0\n",
    "\n",
    "# Inserindo as dezenas na lista\n",
    "for i in range(6):\n",
    "    i = i+1\n",
    "    numeros[j] = navegador.find_element(By.XPATH, f'//*[@id=\"ulDezenas\"]/li[{i}]').text\n",
    "    j = j+1\n"
   ]
  },
  {
   "cell_type": "code",
   "execution_count": null,
   "metadata": {},
   "outputs": [],
   "source": [
    "# Pegando as informações e colocando em variáveis\n",
    "concurso = info_concurso[9:13]\n",
    "data = info_concurso[-11:-1]"
   ]
  },
  {
   "cell_type": "code",
   "execution_count": null,
   "metadata": {},
   "outputs": [],
   "source": [
    "# Exibindo as informações\n",
    "print(info_concurso)\n",
    "print(\"Dezenas:\", numeros)\n",
    "print(\"Concurso:\", concurso)\n",
    "print(\"Data:\", data)\n"
   ]
  },
  {
   "cell_type": "code",
   "execution_count": null,
   "metadata": {},
   "outputs": [],
   "source": [
    "# Inserindo as informações do concurso 1000 no Data Frame\n",
    "sorteios.loc[len(sorteios)] = [data, concurso, numeros[0], numeros[1], numeros[2], numeros[3], numeros[4], numeros[5]]\n",
    "sorteios"
   ]
  },
  {
   "cell_type": "markdown",
   "metadata": {},
   "source": [
    "## RESUMO"
   ]
  },
  {
   "cell_type": "code",
   "execution_count": null,
   "metadata": {},
   "outputs": [],
   "source": [
    "# Importando as bibliotecas \n",
    "from selenium import webdriver\n",
    "from selenium.webdriver.chrome.service import Service\n",
    "from selenium.webdriver.common.keys import Keys\n",
    "from webdriver_manager.chrome import ChromeDriverManager\n",
    "import pandas as pd\n",
    "from selenium.webdriver.common.by import By # classe BY\n",
    "\n",
    "# Abrindo navegador e selecionando chromedriver.exe na pasta local do computador\n",
    "navegador = webdriver.Chrome('C:\\Program Files\\Google\\Chrome\\chromedriver.exe')\n",
    "\n",
    "# Abrindo o site desejado - Mega Sena\n",
    "link = ('https://loterias.caixa.gov.br/Paginas/Mega-Sena.aspx')\n",
    "navegador.get(link)"
   ]
  },
  {
   "cell_type": "code",
   "execution_count": null,
   "metadata": {},
   "outputs": [],
   "source": [
    "sorteios = pd.DataFrame(columns = [\"Data\", \"Concurso\", \"Num 1\", \"Num 2\", \"Num 3\", \"Num 4\", \"Num 5\", \"Num 6\"])\n",
    "sorteios"
   ]
  },
  {
   "cell_type": "code",
   "execution_count": null,
   "metadata": {},
   "outputs": [],
   "source": [
    "info_concurso = navegador.find_element(By.XPATH, '//*[@id=\"wp_resultados\"]/div[1]/div/h2/span').text\n",
    "concurso = int(info_concurso[9:13])\n",
    "inicio_contador = concurso\n",
    "\n",
    "# Pegando as dezenas\n",
    "numeros = ['', '', '', '', '', ''] \n",
    "\n",
    "for cont in range(inicio_contador):\n",
    "    j = 0\n",
    "    cont = cont + 1\n",
    "    navegador.find_element(By.XPATH, '//*[@id=\"buscaConcurso\"]').click()\n",
    "    navegador.find_element(By.XPATH, '//*[@id=\"buscaConcurso\"]').clear()\n",
    "    navegador.find_element(By.XPATH, '//*[@id=\"buscaConcurso\"]').send_keys(cont)\n",
    "    navegador.find_element(By.XPATH, '//*[@id=\"buscaConcurso\"]').send_keys(Keys.ENTER)\n",
    "    data = info_concurso[-11:-1]\n",
    "\n",
    "    # Até 0 9º sorteio len = 23\n",
    "    if len(info_concurso) == 23:\n",
    "        concurso = int(info_concurso[9])\n",
    "\n",
    "        # Até 0 99º sorteio len = 24\n",
    "    elif len(info_concurso) == 24:\n",
    "        concurso = int(info_concurso[9:11])\n",
    "    \n",
    "    # Até 0 99º sorteio len = 25\n",
    "    elif len(info_concurso) == 25:\n",
    "        concurso = int(info_concurso[9:12])\n",
    "    \n",
    "    # Acima de 999 len = 26\n",
    "    elif len(info_concurso[9:13]):\n",
    "         concurso = int(info_concurso[9:13])\n",
    "\n",
    "    for i in range(6):\n",
    "        i = i+1\n",
    "        numeros[j] = navegador.find_element(By.XPATH, f'//*[@id=\"ulDezenas\"]/li[{i}]').text\n",
    "        j = j+1\n",
    "    \n",
    "    sorteios.loc[len(sorteios)] = [data, concurso, numeros[0], numeros[1], numeros[2], numeros[3], numeros[4], numeros[5]]\n",
    "\n"
   ]
  },
  {
   "cell_type": "code",
   "execution_count": null,
   "metadata": {},
   "outputs": [],
   "source": [
    "sorteios"
   ]
  },
  {
   "cell_type": "code",
   "execution_count": null,
   "metadata": {},
   "outputs": [],
   "source": []
  },
  {
   "cell_type": "code",
   "execution_count": null,
   "metadata": {},
   "outputs": [],
   "source": []
  },
  {
   "cell_type": "code",
   "execution_count": null,
   "metadata": {},
   "outputs": [],
   "source": []
  },
  {
   "cell_type": "code",
   "execution_count": null,
   "metadata": {},
   "outputs": [],
   "source": []
  },
  {
   "cell_type": "code",
   "execution_count": null,
   "metadata": {},
   "outputs": [],
   "source": []
  },
  {
   "cell_type": "code",
   "execution_count": null,
   "metadata": {},
   "outputs": [],
   "source": []
  },
  {
   "cell_type": "code",
   "execution_count": null,
   "metadata": {},
   "outputs": [],
   "source": []
  },
  {
   "cell_type": "code",
   "execution_count": null,
   "metadata": {},
   "outputs": [],
   "source": []
  },
  {
   "cell_type": "code",
   "execution_count": null,
   "metadata": {},
   "outputs": [],
   "source": []
  },
  {
   "cell_type": "code",
   "execution_count": null,
   "metadata": {},
   "outputs": [],
   "source": []
  },
  {
   "cell_type": "code",
   "execution_count": null,
   "metadata": {},
   "outputs": [],
   "source": []
  },
  {
   "cell_type": "code",
   "execution_count": null,
   "metadata": {},
   "outputs": [],
   "source": []
  },
  {
   "cell_type": "code",
   "execution_count": null,
   "metadata": {},
   "outputs": [],
   "source": []
  },
  {
   "cell_type": "code",
   "execution_count": null,
   "metadata": {},
   "outputs": [],
   "source": []
  },
  {
   "cell_type": "code",
   "execution_count": null,
   "metadata": {},
   "outputs": [],
   "source": []
  },
  {
   "cell_type": "code",
   "execution_count": null,
   "metadata": {},
   "outputs": [],
   "source": []
  },
  {
   "cell_type": "code",
   "execution_count": null,
   "metadata": {},
   "outputs": [],
   "source": []
  },
  {
   "cell_type": "code",
   "execution_count": null,
   "metadata": {},
   "outputs": [],
   "source": []
  },
  {
   "cell_type": "code",
   "execution_count": null,
   "metadata": {},
   "outputs": [],
   "source": []
  },
  {
   "cell_type": "code",
   "execution_count": null,
   "metadata": {},
   "outputs": [],
   "source": []
  },
  {
   "cell_type": "code",
   "execution_count": null,
   "metadata": {},
   "outputs": [],
   "source": []
  }
 ],
 "metadata": {
  "kernelspec": {
   "display_name": "Python 3.10.7 64-bit",
   "language": "python",
   "name": "python3"
  },
  "language_info": {
   "codemirror_mode": {
    "name": "ipython",
    "version": 3
   },
   "file_extension": ".py",
   "mimetype": "text/x-python",
   "name": "python",
   "nbconvert_exporter": "python",
   "pygments_lexer": "ipython3",
   "version": "3.10.7"
  },
  "orig_nbformat": 4,
  "vscode": {
   "interpreter": {
    "hash": "99bf3107952ea242b5decbdfafbbd4117feaebf715574d2cdb3a3b952b6a1e5a"
   }
  }
 },
 "nbformat": 4,
 "nbformat_minor": 2
}
