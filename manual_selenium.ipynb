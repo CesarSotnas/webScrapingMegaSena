{
 "cells": [
  {
   "cell_type": "markdown",
   "metadata": {},
   "source": [
    "## Instalação:"
   ]
  },
  {
   "cell_type": "markdown",
   "metadata": {},
   "source": [
    "Para a instalar a biblioteca do Selenium e Webdriver Manager abra o prompt de comando e execute o comando:\n"
   ]
  },
  {
   "cell_type": "markdown",
   "metadata": {},
   "source": [
    "```\n",
    "pip install --upgrade selenium\n",
    "```\n",
    "\n",
    "```\n",
    "pip install webdriver_manager\n",
    "```"
   ]
  },
  {
   "cell_type": "markdown",
   "metadata": {},
   "source": [
    "Documentação selenium: https://selenium-python.readthedocs.io/index.html"
   ]
  },
  {
   "cell_type": "markdown",
   "metadata": {},
   "source": [
    "Sempre verifique a versão do Chrome instalado na sua máquina em: ajuda > Sobre o Google Chrome. <br>\n",
    "Baixar a versão do webdriver correspondente a que você esteja utilizando no Chrome:<br>\n",
    "https://chromedriver.chromium.org/downloads"
   ]
  },
  {
   "cell_type": "code",
   "execution_count": 3,
   "metadata": {},
   "outputs": [
    {
     "name": "stderr",
     "output_type": "stream",
     "text": [
      "C:\\Users\\fdgce\\AppData\\Local\\Temp\\ipykernel_18496\\36597335.py:10: DeprecationWarning: executable_path has been deprecated, please pass in a Service object\n",
      "  navegador = webdriver.Chrome('C:\\Program Files\\Google\\Chrome\\chromedriver.exe')\n"
     ]
    }
   ],
   "source": [
    "# Importando as bibliotecas \n",
    "from selenium import webdriver\n",
    "from selenium.webdriver.chrome.service import Service\n",
    "from selenium.webdriver.common.keys import Keys\n",
    "from webdriver_manager.chrome import ChromeDriverManager\n",
    "from selenium.webdriver.common.by import By # classe BY\n",
    "import pandas as pd\n",
    "\n",
    "# Abrindo navegador e selecionando chromedriver.exe na pasta local do computador\n",
    "navegador = webdriver.Chrome('C:\\Program Files\\Google\\Chrome\\chromedriver.exe')\n",
    "\n",
    "# Abrindo o site desejado - Mega Sena\n",
    "link = ('https://loterias.caixa.gov.br/Paginas/Mega-Sena.aspx')\n",
    "navegador.get(link)\n",
    "navegador.maximize_window()"
   ]
  },
  {
   "cell_type": "markdown",
   "metadata": {},
   "source": [
    "A classe By serve para que possamos indentificar o elemento dentro do HTML. \n",
    "Existem várias formas de encontrar o elemento:\n",
    "```\n",
    "ID = \"id\"\n",
    "NAME = \"name\"\n",
    "XPATH = \"xpath\"\n",
    "LINK_TEXT = \"link text\"\n",
    "PARTIAL_LINK_TEXT = \"partial link text\"\n",
    "TAG_NAME = \"tag name\"\n",
    "CLASS_NAME = \"class name\"\n",
    "CSS_SELECTOR = \"css selector\"\n",
    "```"
   ]
  },
  {
   "cell_type": "markdown",
   "metadata": {},
   "source": [
    "Exemplos:\n",
    "```\n",
    "find_element(By.ID, \"id\")\n",
    "find_element(By.NAME, \"name\")\n",
    "find_element(By.XPATH, \"xpath\")\n",
    "find_element(By.LINK_TEXT, \"link text\")\n",
    "find_element(By.PARTIAL_LINK_TEXT, \"partial link text\")\n",
    "find_element(By.TAG_NAME, \"tag name\")\n",
    "find_element(By.CLASS_NAME, \"class name\")\n",
    "find_element(By.CSS_SELECTOR, \"css selector\")\n",
    "```"
   ]
  },
  {
   "cell_type": "code",
   "execution_count": 4,
   "metadata": {},
   "outputs": [],
   "source": [
    "# Pegando os campos do HTML pelo Xpath\n",
    "\n",
    "# Informações sobre concurso e data\n",
    "info_concurso = navegador.find_element(By.XPATH, '//*[@id=\"wp_resultados\"]/div[1]/div/h2/span').text\n",
    "\n",
    "# Criando a lista vazia para pegar as dezenas\n",
    "numeros = ['', '', '', '', '', ''] \n",
    "j = 0\n",
    "\n",
    "for i in range(6):\n",
    "    i = i+1\n",
    "    numeros[j] = navegador.find_element(By.XPATH, f'//*[@id=\"ulDezenas\"]/li[{i}]').text\n",
    "    j = j+1"
   ]
  },
  {
   "cell_type": "markdown",
   "metadata": {},
   "source": [
    "Pegamos a string com concurso e data, transformamos a informação, dividimos e colocamos em variáveis:"
   ]
  },
  {
   "cell_type": "code",
   "execution_count": 5,
   "metadata": {},
   "outputs": [],
   "source": [
    "concurso = info_concurso[9:13]\n",
    "data = info_concurso[-11:-1]"
   ]
  },
  {
   "cell_type": "code",
   "execution_count": 6,
   "metadata": {},
   "outputs": [
    {
     "name": "stdout",
     "output_type": "stream",
     "text": [
      "Concurso 2544 (30/11/2022)\n",
      "Dezenas: ['25', '38', '45', '53', '55', '56']\n",
      "Concurso: 2544\n",
      "Data: 30/11/2022\n"
     ]
    }
   ],
   "source": [
    "print(info_concurso)\n",
    "print(\"Dezenas:\", numeros)\n",
    "print(\"Concurso:\", concurso)\n",
    "print(\"Data:\", data)\n"
   ]
  },
  {
   "cell_type": "markdown",
   "metadata": {},
   "source": [
    "Com as informações sobre concurso, data e dezenas, vamos criar nosso Data Frame:"
   ]
  },
  {
   "cell_type": "code",
   "execution_count": 7,
   "metadata": {},
   "outputs": [
    {
     "data": {
      "text/html": [
       "<div>\n",
       "<style scoped>\n",
       "    .dataframe tbody tr th:only-of-type {\n",
       "        vertical-align: middle;\n",
       "    }\n",
       "\n",
       "    .dataframe tbody tr th {\n",
       "        vertical-align: top;\n",
       "    }\n",
       "\n",
       "    .dataframe thead th {\n",
       "        text-align: right;\n",
       "    }\n",
       "</style>\n",
       "<table border=\"1\" class=\"dataframe\">\n",
       "  <thead>\n",
       "    <tr style=\"text-align: right;\">\n",
       "      <th></th>\n",
       "      <th>Data</th>\n",
       "      <th>Concurso</th>\n",
       "      <th>Num 1</th>\n",
       "      <th>Num 2</th>\n",
       "      <th>Num 3</th>\n",
       "      <th>Num 4</th>\n",
       "      <th>Num 5</th>\n",
       "      <th>Num 6</th>\n",
       "    </tr>\n",
       "  </thead>\n",
       "  <tbody>\n",
       "  </tbody>\n",
       "</table>\n",
       "</div>"
      ],
      "text/plain": [
       "Empty DataFrame\n",
       "Columns: [Data, Concurso, Num 1, Num 2, Num 3, Num 4, Num 5, Num 6]\n",
       "Index: []"
      ]
     },
     "execution_count": 7,
     "metadata": {},
     "output_type": "execute_result"
    }
   ],
   "source": [
    "sorteios = pd.DataFrame(columns = [\"Data\", \"Concurso\", \"Num 1\", \"Num 2\", \"Num 3\", \"Num 4\", \"Num 5\", \"Num 6\"])\n",
    "sorteios"
   ]
  },
  {
   "cell_type": "markdown",
   "metadata": {},
   "source": [
    "Inserindo as informações no Data Frame\n"
   ]
  },
  {
   "cell_type": "code",
   "execution_count": 8,
   "metadata": {},
   "outputs": [
    {
     "data": {
      "text/html": [
       "<div>\n",
       "<style scoped>\n",
       "    .dataframe tbody tr th:only-of-type {\n",
       "        vertical-align: middle;\n",
       "    }\n",
       "\n",
       "    .dataframe tbody tr th {\n",
       "        vertical-align: top;\n",
       "    }\n",
       "\n",
       "    .dataframe thead th {\n",
       "        text-align: right;\n",
       "    }\n",
       "</style>\n",
       "<table border=\"1\" class=\"dataframe\">\n",
       "  <thead>\n",
       "    <tr style=\"text-align: right;\">\n",
       "      <th></th>\n",
       "      <th>Data</th>\n",
       "      <th>Concurso</th>\n",
       "      <th>Num 1</th>\n",
       "      <th>Num 2</th>\n",
       "      <th>Num 3</th>\n",
       "      <th>Num 4</th>\n",
       "      <th>Num 5</th>\n",
       "      <th>Num 6</th>\n",
       "    </tr>\n",
       "  </thead>\n",
       "  <tbody>\n",
       "    <tr>\n",
       "      <th>0</th>\n",
       "      <td>30/11/2022</td>\n",
       "      <td>2544</td>\n",
       "      <td>25</td>\n",
       "      <td>38</td>\n",
       "      <td>45</td>\n",
       "      <td>53</td>\n",
       "      <td>55</td>\n",
       "      <td>56</td>\n",
       "    </tr>\n",
       "  </tbody>\n",
       "</table>\n",
       "</div>"
      ],
      "text/plain": [
       "         Data Concurso Num 1 Num 2 Num 3 Num 4 Num 5 Num 6\n",
       "0  30/11/2022     2544    25    38    45    53    55    56"
      ]
     },
     "execution_count": 8,
     "metadata": {},
     "output_type": "execute_result"
    }
   ],
   "source": [
    "sorteios.loc[len(sorteios)] = [data, concurso, numeros[0], numeros[1], numeros[2], numeros[3], numeros[4], numeros[5]]\n",
    "sorteios"
   ]
  },
  {
   "cell_type": "markdown",
   "metadata": {},
   "source": [
    "Vamos navegar pelo HTML e selecionar o resultado de outro concurso:"
   ]
  },
  {
   "cell_type": "code",
   "execution_count": 9,
   "metadata": {},
   "outputs": [],
   "source": [
    "# Selecionando um sorteio aleatório\n",
    "numero_sorteio = 1000\n",
    "\n",
    "# Comando para clicar na caixa de busca dos sorteios\n",
    "navegador.find_element(By.XPATH, '//*[@id=\"buscaConcurso\"]').click()\n",
    "\n",
    "# Comando para escrever na caixa de busca e pressionar enter\n",
    "navegador.find_element(By.XPATH, '//*[@id=\"buscaConcurso\"]').send_keys(numero_sorteio, Keys.ENTER)"
   ]
  },
  {
   "cell_type": "code",
   "execution_count": 10,
   "metadata": {},
   "outputs": [],
   "source": [
    "# Informações sobre concurso e data\n",
    "info_concurso = navegador.find_element(By.XPATH, '//*[@id=\"wp_resultados\"]/div[1]/div/h2/span').text\n",
    "\n",
    "# zerando nosso contador da lista de números\n",
    "j = 0\n",
    "\n",
    "# Inserindo as dezenas na lista\n",
    "for i in range(6):\n",
    "    i = i+1\n",
    "    numeros[j] = navegador.find_element(By.XPATH, f'//*[@id=\"ulDezenas\"]/li[{i}]').text\n",
    "    j = j+1\n"
   ]
  },
  {
   "cell_type": "code",
   "execution_count": 11,
   "metadata": {},
   "outputs": [],
   "source": [
    "# Pegando as informações e colocando em variáveis\n",
    "concurso = info_concurso[9:13]\n",
    "data = info_concurso[-11:-1]"
   ]
  },
  {
   "cell_type": "code",
   "execution_count": 12,
   "metadata": {},
   "outputs": [
    {
     "name": "stdout",
     "output_type": "stream",
     "text": [
      "Concurso 1000 (30/08/2008)\n",
      "Dezenas: ['29', '38', '39', '49', '53', '58']\n",
      "Concurso: 1000\n",
      "Data: 30/08/2008\n"
     ]
    }
   ],
   "source": [
    "# Exibindo as informações\n",
    "print(info_concurso)\n",
    "print(\"Dezenas:\", numeros)\n",
    "print(\"Concurso:\", concurso)\n",
    "print(\"Data:\", data)\n"
   ]
  },
  {
   "cell_type": "code",
   "execution_count": 13,
   "metadata": {},
   "outputs": [
    {
     "data": {
      "text/html": [
       "<div>\n",
       "<style scoped>\n",
       "    .dataframe tbody tr th:only-of-type {\n",
       "        vertical-align: middle;\n",
       "    }\n",
       "\n",
       "    .dataframe tbody tr th {\n",
       "        vertical-align: top;\n",
       "    }\n",
       "\n",
       "    .dataframe thead th {\n",
       "        text-align: right;\n",
       "    }\n",
       "</style>\n",
       "<table border=\"1\" class=\"dataframe\">\n",
       "  <thead>\n",
       "    <tr style=\"text-align: right;\">\n",
       "      <th></th>\n",
       "      <th>Data</th>\n",
       "      <th>Concurso</th>\n",
       "      <th>Num 1</th>\n",
       "      <th>Num 2</th>\n",
       "      <th>Num 3</th>\n",
       "      <th>Num 4</th>\n",
       "      <th>Num 5</th>\n",
       "      <th>Num 6</th>\n",
       "    </tr>\n",
       "  </thead>\n",
       "  <tbody>\n",
       "    <tr>\n",
       "      <th>0</th>\n",
       "      <td>30/11/2022</td>\n",
       "      <td>2544</td>\n",
       "      <td>25</td>\n",
       "      <td>38</td>\n",
       "      <td>45</td>\n",
       "      <td>53</td>\n",
       "      <td>55</td>\n",
       "      <td>56</td>\n",
       "    </tr>\n",
       "    <tr>\n",
       "      <th>1</th>\n",
       "      <td>30/08/2008</td>\n",
       "      <td>1000</td>\n",
       "      <td>29</td>\n",
       "      <td>38</td>\n",
       "      <td>39</td>\n",
       "      <td>49</td>\n",
       "      <td>53</td>\n",
       "      <td>58</td>\n",
       "    </tr>\n",
       "  </tbody>\n",
       "</table>\n",
       "</div>"
      ],
      "text/plain": [
       "         Data Concurso Num 1 Num 2 Num 3 Num 4 Num 5 Num 6\n",
       "0  30/11/2022     2544    25    38    45    53    55    56\n",
       "1  30/08/2008     1000    29    38    39    49    53    58"
      ]
     },
     "execution_count": 13,
     "metadata": {},
     "output_type": "execute_result"
    }
   ],
   "source": [
    "# Inserindo as informações do concurso 1000 no Data Frame\n",
    "sorteios.loc[len(sorteios)] = [data, concurso, numeros[0], numeros[1], numeros[2], numeros[3], numeros[4], numeros[5]]\n",
    "sorteios"
   ]
  },
  {
   "cell_type": "markdown",
   "metadata": {},
   "source": [
    "## RESUMO:"
   ]
  },
  {
   "cell_type": "markdown",
   "metadata": {},
   "source": [
    "A primeira parte do código foi um explicativo de como funciona a raspagem com o Selenium. O código abaixo é o que vamos utilizar daqui pra frente."
   ]
  },
  {
   "cell_type": "code",
   "execution_count": 1,
   "metadata": {},
   "outputs": [
    {
     "name": "stderr",
     "output_type": "stream",
     "text": [
      "C:\\Users\\fdgce\\AppData\\Local\\Temp\\ipykernel_20348\\881746509.py:11: DeprecationWarning: executable_path has been deprecated, please pass in a Service object\n",
      "  navegador = webdriver.Chrome('C:\\Program Files\\Google\\Chrome\\chromedriver.exe')\n"
     ]
    }
   ],
   "source": [
    "# Importando as bibliotecas \n",
    "from selenium import webdriver\n",
    "from selenium.webdriver.chrome.service import Service\n",
    "from selenium.webdriver.common.keys import Keys\n",
    "from webdriver_manager.chrome import ChromeDriverManager\n",
    "from selenium.webdriver.common.by import By # classe BY\n",
    "import pandas as pd\n",
    "import time\n",
    "\n",
    "# Abrindo navegador e selecionando chromedriver.exe na pasta local do computador\n",
    "navegador = webdriver.Chrome('C:\\Program Files\\Google\\Chrome\\chromedriver.exe')\n",
    "\n",
    "# Abrindo o site desejado - Mega Sena\n",
    "link = ('https://loterias.caixa.gov.br/Paginas/Mega-Sena.aspx')\n",
    "navegador.get(link)\n",
    "navegador.maximize_window()"
   ]
  },
  {
   "cell_type": "code",
   "execution_count": 2,
   "metadata": {},
   "outputs": [
    {
     "data": {
      "text/html": [
       "<div>\n",
       "<style scoped>\n",
       "    .dataframe tbody tr th:only-of-type {\n",
       "        vertical-align: middle;\n",
       "    }\n",
       "\n",
       "    .dataframe tbody tr th {\n",
       "        vertical-align: top;\n",
       "    }\n",
       "\n",
       "    .dataframe thead th {\n",
       "        text-align: right;\n",
       "    }\n",
       "</style>\n",
       "<table border=\"1\" class=\"dataframe\">\n",
       "  <thead>\n",
       "    <tr style=\"text-align: right;\">\n",
       "      <th></th>\n",
       "      <th>Data</th>\n",
       "      <th>Concurso</th>\n",
       "      <th>Num 1</th>\n",
       "      <th>Num 2</th>\n",
       "      <th>Num 3</th>\n",
       "      <th>Num 4</th>\n",
       "      <th>Num 5</th>\n",
       "      <th>Num 6</th>\n",
       "    </tr>\n",
       "  </thead>\n",
       "  <tbody>\n",
       "  </tbody>\n",
       "</table>\n",
       "</div>"
      ],
      "text/plain": [
       "Empty DataFrame\n",
       "Columns: [Data, Concurso, Num 1, Num 2, Num 3, Num 4, Num 5, Num 6]\n",
       "Index: []"
      ]
     },
     "execution_count": 2,
     "metadata": {},
     "output_type": "execute_result"
    }
   ],
   "source": [
    "sorteios = pd.DataFrame(columns = [\"Data\", \"Concurso\", \"Num 1\", \"Num 2\", \"Num 3\", \"Num 4\", \"Num 5\", \"Num 6\"])\n",
    "sorteios"
   ]
  },
  {
   "cell_type": "markdown",
   "metadata": {},
   "source": [
    "Fizemos um looping, iniciando do 1 até o último sorteio. Tratamos o tamanho da String no caso dos sorteios de 1 até 9, 10 até 99 e 100 até 999:"
   ]
  },
  {
   "cell_type": "code",
   "execution_count": 3,
   "metadata": {},
   "outputs": [],
   "source": [
    "info_concurso = navegador.find_element(By.XPATH, '//*[@id=\"wp_resultados\"]/div[1]/div/h2/span').text\n",
    "concurso = int(info_concurso[9:13])\n",
    "inicio_contador = concurso\n",
    "\n",
    "# Pegando as dezenas\n",
    "numeros = ['', '', '', '', '', ''] \n",
    "\n",
    "for cont in range(inicio_contador + 1):\n",
    "    j = 0\n",
    "    cont = cont + 1\n",
    "    navegador.find_element(By.XPATH, '//*[@id=\"buscaConcurso\"]').click()\n",
    "    navegador.find_element(By.XPATH, '//*[@id=\"buscaConcurso\"]').clear()\n",
    "    navegador.find_element(By.XPATH, '//*[@id=\"buscaConcurso\"]').send_keys(cont)\n",
    "    time.sleep(0.5)\n",
    "    navegador.find_element(By.XPATH, '//*[@id=\"buscaConcurso\"]').send_keys(Keys.ENTER)\n",
    "    data = info_concurso[-11:-1]\n",
    "\n",
    "    # Até o 9º sorteio len = 23\n",
    "    if len(info_concurso) == 23:\n",
    "        concurso = int(info_concurso[9])\n",
    "\n",
    "    # Até o 99º sorteio len = 24\n",
    "    elif len(info_concurso) == 24:\n",
    "        concurso = int(info_concurso[9:11])\n",
    "    \n",
    "    # Até o 999º sorteio len = 25\n",
    "    elif len(info_concurso) == 25:\n",
    "        concurso = int(info_concurso[9:12])\n",
    "    \n",
    "    # Acima de 999 len = 26\n",
    "    elif len(info_concurso) == 26:\n",
    "         concurso = int(info_concurso[9:13])\n",
    "\n",
    "    for i in range(6):\n",
    "        i = i+1\n",
    "        time.sleep(0.5)\n",
    "        numeros[j] = int(navegador.find_element(By.XPATH, f'//*[@id=\"ulDezenas\"]/li[{i}]').text)\n",
    "        j += 1\n",
    "    \n",
    "    sorteios.loc[len(sorteios)] = [data, concurso, numeros[0], numeros[1], numeros[2], numeros[3], numeros[4], numeros[5]]\n",
    "    info_concurso = navegador.find_element(By.XPATH, '//*[@id=\"wp_resultados\"]/div[1]/div/h2/span').text\n",
    "    \n",
    "\n"
   ]
  },
  {
   "cell_type": "markdown",
   "metadata": {},
   "source": [
    "Depois de rodarmos nosso código, vamos ver as informações do Data Frame"
   ]
  },
  {
   "cell_type": "code",
   "execution_count": 4,
   "metadata": {},
   "outputs": [
    {
     "name": "stdout",
     "output_type": "stream",
     "text": [
      "<class 'pandas.core.frame.DataFrame'>\n",
      "Int64Index: 2544 entries, 0 to 2543\n",
      "Data columns (total 8 columns):\n",
      " #   Column    Non-Null Count  Dtype \n",
      "---  ------    --------------  ----- \n",
      " 0   Data      2544 non-null   object\n",
      " 1   Concurso  2544 non-null   int64 \n",
      " 2   Num 1     2544 non-null   int64 \n",
      " 3   Num 2     2544 non-null   int64 \n",
      " 4   Num 3     2544 non-null   int64 \n",
      " 5   Num 4     2544 non-null   int64 \n",
      " 6   Num 5     2544 non-null   int64 \n",
      " 7   Num 6     2544 non-null   int64 \n",
      "dtypes: int64(7), object(1)\n",
      "memory usage: 178.9+ KB\n"
     ]
    }
   ],
   "source": [
    "sorteios.info()"
   ]
  },
  {
   "cell_type": "code",
   "execution_count": 5,
   "metadata": {},
   "outputs": [
    {
     "data": {
      "text/html": [
       "<div>\n",
       "<style scoped>\n",
       "    .dataframe tbody tr th:only-of-type {\n",
       "        vertical-align: middle;\n",
       "    }\n",
       "\n",
       "    .dataframe tbody tr th {\n",
       "        vertical-align: top;\n",
       "    }\n",
       "\n",
       "    .dataframe thead th {\n",
       "        text-align: right;\n",
       "    }\n",
       "</style>\n",
       "<table border=\"1\" class=\"dataframe\">\n",
       "  <thead>\n",
       "    <tr style=\"text-align: right;\">\n",
       "      <th></th>\n",
       "      <th>Data</th>\n",
       "      <th>Concurso</th>\n",
       "      <th>Num 1</th>\n",
       "      <th>Num 2</th>\n",
       "      <th>Num 3</th>\n",
       "      <th>Num 4</th>\n",
       "      <th>Num 5</th>\n",
       "      <th>Num 6</th>\n",
       "    </tr>\n",
       "  </thead>\n",
       "  <tbody>\n",
       "    <tr>\n",
       "      <th>0</th>\n",
       "      <td>30/11/2022</td>\n",
       "      <td>2544</td>\n",
       "      <td>4</td>\n",
       "      <td>5</td>\n",
       "      <td>30</td>\n",
       "      <td>33</td>\n",
       "      <td>41</td>\n",
       "      <td>52</td>\n",
       "    </tr>\n",
       "    <tr>\n",
       "      <th>1</th>\n",
       "      <td>11/03/1996</td>\n",
       "      <td>1</td>\n",
       "      <td>9</td>\n",
       "      <td>37</td>\n",
       "      <td>39</td>\n",
       "      <td>41</td>\n",
       "      <td>43</td>\n",
       "      <td>49</td>\n",
       "    </tr>\n",
       "    <tr>\n",
       "      <th>2</th>\n",
       "      <td>18/03/1996</td>\n",
       "      <td>2</td>\n",
       "      <td>10</td>\n",
       "      <td>11</td>\n",
       "      <td>29</td>\n",
       "      <td>30</td>\n",
       "      <td>36</td>\n",
       "      <td>47</td>\n",
       "    </tr>\n",
       "    <tr>\n",
       "      <th>3</th>\n",
       "      <td>25/03/1996</td>\n",
       "      <td>3</td>\n",
       "      <td>1</td>\n",
       "      <td>5</td>\n",
       "      <td>6</td>\n",
       "      <td>27</td>\n",
       "      <td>42</td>\n",
       "      <td>59</td>\n",
       "    </tr>\n",
       "    <tr>\n",
       "      <th>4</th>\n",
       "      <td>01/04/1996</td>\n",
       "      <td>4</td>\n",
       "      <td>1</td>\n",
       "      <td>2</td>\n",
       "      <td>6</td>\n",
       "      <td>16</td>\n",
       "      <td>19</td>\n",
       "      <td>46</td>\n",
       "    </tr>\n",
       "    <tr>\n",
       "      <th>...</th>\n",
       "      <td>...</td>\n",
       "      <td>...</td>\n",
       "      <td>...</td>\n",
       "      <td>...</td>\n",
       "      <td>...</td>\n",
       "      <td>...</td>\n",
       "      <td>...</td>\n",
       "      <td>...</td>\n",
       "    </tr>\n",
       "    <tr>\n",
       "      <th>2539</th>\n",
       "      <td>16/11/2022</td>\n",
       "      <td>2539</td>\n",
       "      <td>2</td>\n",
       "      <td>8</td>\n",
       "      <td>28</td>\n",
       "      <td>34</td>\n",
       "      <td>41</td>\n",
       "      <td>49</td>\n",
       "    </tr>\n",
       "    <tr>\n",
       "      <th>2540</th>\n",
       "      <td>19/11/2022</td>\n",
       "      <td>2540</td>\n",
       "      <td>10</td>\n",
       "      <td>28</td>\n",
       "      <td>45</td>\n",
       "      <td>47</td>\n",
       "      <td>57</td>\n",
       "      <td>59</td>\n",
       "    </tr>\n",
       "    <tr>\n",
       "      <th>2541</th>\n",
       "      <td>22/11/2022</td>\n",
       "      <td>2541</td>\n",
       "      <td>12</td>\n",
       "      <td>20</td>\n",
       "      <td>22</td>\n",
       "      <td>25</td>\n",
       "      <td>26</td>\n",
       "      <td>55</td>\n",
       "    </tr>\n",
       "    <tr>\n",
       "      <th>2542</th>\n",
       "      <td>24/11/2022</td>\n",
       "      <td>2542</td>\n",
       "      <td>2</td>\n",
       "      <td>5</td>\n",
       "      <td>27</td>\n",
       "      <td>30</td>\n",
       "      <td>46</td>\n",
       "      <td>53</td>\n",
       "    </tr>\n",
       "    <tr>\n",
       "      <th>2543</th>\n",
       "      <td>26/11/2022</td>\n",
       "      <td>2543</td>\n",
       "      <td>25</td>\n",
       "      <td>38</td>\n",
       "      <td>45</td>\n",
       "      <td>53</td>\n",
       "      <td>55</td>\n",
       "      <td>56</td>\n",
       "    </tr>\n",
       "  </tbody>\n",
       "</table>\n",
       "<p>2544 rows × 8 columns</p>\n",
       "</div>"
      ],
      "text/plain": [
       "            Data  Concurso  Num 1  Num 2  Num 3  Num 4  Num 5  Num 6\n",
       "0     30/11/2022      2544      4      5     30     33     41     52\n",
       "1     11/03/1996         1      9     37     39     41     43     49\n",
       "2     18/03/1996         2     10     11     29     30     36     47\n",
       "3     25/03/1996         3      1      5      6     27     42     59\n",
       "4     01/04/1996         4      1      2      6     16     19     46\n",
       "...          ...       ...    ...    ...    ...    ...    ...    ...\n",
       "2539  16/11/2022      2539      2      8     28     34     41     49\n",
       "2540  19/11/2022      2540     10     28     45     47     57     59\n",
       "2541  22/11/2022      2541     12     20     22     25     26     55\n",
       "2542  24/11/2022      2542      2      5     27     30     46     53\n",
       "2543  26/11/2022      2543     25     38     45     53     55     56\n",
       "\n",
       "[2544 rows x 8 columns]"
      ]
     },
     "execution_count": 5,
     "metadata": {},
     "output_type": "execute_result"
    }
   ],
   "source": [
    "sorteios"
   ]
  },
  {
   "cell_type": "markdown",
   "metadata": {},
   "source": [
    "Depois de quase duas horas, conseguimos pegar todos os dados, não esqueça de salvar"
   ]
  },
  {
   "cell_type": "code",
   "execution_count": 6,
   "metadata": {},
   "outputs": [],
   "source": [
    "sorteios.to_csv(r'C:\\Users\\fdgce\\OneDrive\\Área de Trabalho\\Estudos\\Python\\Manual web scraping\\webScrapingMegaSena\\resultado.csv', index = False)"
   ]
  },
  {
   "cell_type": "markdown",
   "metadata": {},
   "source": [
    "## Tratamento dos dados"
   ]
  },
  {
   "cell_type": "markdown",
   "metadata": {},
   "source": [
    "Como pode ver, a primeira linha contém o resultado do último sorteio, ficou fora de ordem. Iremos tratar nosso Data Frame a seguir"
   ]
  },
  {
   "cell_type": "markdown",
   "metadata": {},
   "source": [
    "Em construção..."
   ]
  },
  {
   "cell_type": "markdown",
   "metadata": {},
   "source": []
  }
 ],
 "metadata": {
  "kernelspec": {
   "display_name": "Python 3.10.7 64-bit",
   "language": "python",
   "name": "python3"
  },
  "language_info": {
   "codemirror_mode": {
    "name": "ipython",
    "version": 3
   },
   "file_extension": ".py",
   "mimetype": "text/x-python",
   "name": "python",
   "nbconvert_exporter": "python",
   "pygments_lexer": "ipython3",
   "version": "3.10.7"
  },
  "orig_nbformat": 4,
  "vscode": {
   "interpreter": {
    "hash": "99bf3107952ea242b5decbdfafbbd4117feaebf715574d2cdb3a3b952b6a1e5a"
   }
  }
 },
 "nbformat": 4,
 "nbformat_minor": 2
}
