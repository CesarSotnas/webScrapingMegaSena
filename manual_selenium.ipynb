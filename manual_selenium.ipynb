{
 "cells": [
  {
   "cell_type": "markdown",
   "metadata": {},
   "source": [
    "## Instalação:"
   ]
  },
  {
   "cell_type": "markdown",
   "metadata": {},
   "source": [
    "Para a instalar a biblioteca do Selenium e Webdriver Manager abra o prompt de comando e execute o comando:\n"
   ]
  },
  {
   "cell_type": "markdown",
   "metadata": {},
   "source": [
    "```\n",
    "pip install --upgrade selenium\n",
    "```\n",
    "\n",
    "```\n",
    "pip install webdriver_manager\n",
    "```"
   ]
  },
  {
   "cell_type": "markdown",
   "metadata": {},
   "source": [
    "Documentação selenium: https://selenium-python.readthedocs.io/index.html"
   ]
  },
  {
   "cell_type": "markdown",
   "metadata": {},
   "source": [
    "Sempre verifique a versão do Chrome instalado na sua máquina em: ajuda > Sobre o Google Chrome. <br>\n",
    "Baixar a versão do webdriver correspondente a que você esteja utilizando no Chrome:<br>\n",
    "https://chromedriver.chromium.org/downloads"
   ]
  },
  {
   "cell_type": "code",
   "execution_count": null,
   "metadata": {},
   "outputs": [],
   "source": [
    "# Importando as bibliotecas \n",
    "from selenium import webdriver\n",
    "from selenium.webdriver.chrome.service import Service\n",
    "from selenium.webdriver.common.keys import Keys\n",
    "from webdriver_manager.chrome import ChromeDriverManager\n",
    "from selenium.webdriver.common.by import By # classe BY\n",
    "import pandas as pd\n",
    "\n",
    "# Abrindo navegador e selecionando chromedriver.exe na pasta local do computador\n",
    "navegador = webdriver.Chrome('C:\\Program Files\\Google\\Chrome\\chromedriver.exe')\n",
    "\n",
    "# Abrindo o site desejado - Mega Sena\n",
    "link = ('https://loterias.caixa.gov.br/Paginas/Mega-Sena.aspx')\n",
    "navegador.get(link)"
   ]
  },
  {
   "cell_type": "markdown",
   "metadata": {},
   "source": [
    "A classe By serve para que possamos indentificar o elemento dentro do HTML. \n",
    "Existem várias formas de encontrar o elemento:\n",
    "```\n",
    "ID = \"id\"\n",
    "NAME = \"name\"\n",
    "XPATH = \"xpath\"\n",
    "LINK_TEXT = \"link text\"\n",
    "PARTIAL_LINK_TEXT = \"partial link text\"\n",
    "TAG_NAME = \"tag name\"\n",
    "CLASS_NAME = \"class name\"\n",
    "CSS_SELECTOR = \"css selector\"\n",
    "```"
   ]
  },
  {
   "cell_type": "markdown",
   "metadata": {},
   "source": [
    "Exemplos:\n",
    "```\n",
    "find_element(By.ID, \"id\")\n",
    "find_element(By.NAME, \"name\")\n",
    "find_element(By.XPATH, \"xpath\")\n",
    "find_element(By.LINK_TEXT, \"link text\")\n",
    "find_element(By.PARTIAL_LINK_TEXT, \"partial link text\")\n",
    "find_element(By.TAG_NAME, \"tag name\")\n",
    "find_element(By.CLASS_NAME, \"class name\")\n",
    "find_element(By.CSS_SELECTOR, \"css selector\")\n",
    "```"
   ]
  },
  {
   "cell_type": "code",
   "execution_count": null,
   "metadata": {},
   "outputs": [],
   "source": [
    "# Pegando os campos do HTML pelo Xpath\n",
    "\n",
    "# Informações sobre concurso e data\n",
    "info_concurso = navegador.find_element(By.XPATH, '//*[@id=\"wp_resultados\"]/div[1]/div/h2/span').text\n",
    "\n",
    "# Criando a lista vazia para pegar as dezenas\n",
    "numeros = ['', '', '', '', '', ''] \n",
    "j = 0\n",
    "\n",
    "for i in range(6):\n",
    "    i = i+1\n",
    "    numeros[j] = navegador.find_element(By.XPATH, f'//*[@id=\"ulDezenas\"]/li[{i}]').text\n",
    "    j = j+1"
   ]
  },
  {
   "cell_type": "markdown",
   "metadata": {},
   "source": [
    "Pegamos a string com concurso e data, transformamos a informação, dividimos e colocamos em variáveis:"
   ]
  },
  {
   "cell_type": "code",
   "execution_count": null,
   "metadata": {},
   "outputs": [],
   "source": [
    "concurso = info_concurso[9:13]\n",
    "data = info_concurso[-11:-1]"
   ]
  },
  {
   "cell_type": "code",
   "execution_count": null,
   "metadata": {},
   "outputs": [],
   "source": [
    "print(info_concurso)\n",
    "print(\"Dezenas:\", numeros)\n",
    "print(\"Concurso:\", concurso)\n",
    "print(\"Data:\", data)\n"
   ]
  },
  {
   "cell_type": "markdown",
   "metadata": {},
   "source": [
    "Com as informações sobre concurso, data e dezenas, vamos criar nosso Data Frame:"
   ]
  },
  {
   "cell_type": "code",
   "execution_count": null,
   "metadata": {},
   "outputs": [],
   "source": [
    "sorteios = pd.DataFrame(columns = [\"Data\", \"Concurso\", \"Num 1\", \"Num 2\", \"Num 3\", \"Num 4\", \"Num 5\", \"Num 6\"])\n",
    "sorteios"
   ]
  },
  {
   "cell_type": "markdown",
   "metadata": {},
   "source": [
    "Inserindo as informações no Data Frame\n"
   ]
  },
  {
   "cell_type": "code",
   "execution_count": null,
   "metadata": {},
   "outputs": [],
   "source": [
    "sorteios.loc[len(sorteios)] = [data, concurso, numeros[0], numeros[1], numeros[2], numeros[3], numeros[4], numeros[5]]\n",
    "sorteios"
   ]
  },
  {
   "cell_type": "markdown",
   "metadata": {},
   "source": [
    "Vamos navegar pelo HTML e selecionar o resultado de outro concurso:"
   ]
  },
  {
   "cell_type": "code",
   "execution_count": null,
   "metadata": {},
   "outputs": [],
   "source": [
    "numero_sorteio = 1000\n",
    "\n",
    "# Comando para clicar na caixa de busca dos sorteios\n",
    "navegador.find_element(By.XPATH, '//*[@id=\"buscaConcurso\"]').click()\n",
    "\n",
    "# Comando para escrever na caixa de busca e pressionar enter\n",
    "navegador.find_element(By.XPATH, '//*[@id=\"buscaConcurso\"]').send_keys(numero_sorteio, Keys.ENTER)"
   ]
  },
  {
   "cell_type": "code",
   "execution_count": null,
   "metadata": {},
   "outputs": [],
   "source": [
    "# Informações sobre concurso e data\n",
    "info_concurso = navegador.find_element(By.XPATH, '//*[@id=\"wp_resultados\"]/div[1]/div/h2/span').text\n",
    "\n",
    "# zerando nosso contador da lista de números\n",
    "j = 0\n",
    "\n",
    "# Inserindo as dezenas na lista\n",
    "for i in range(6):\n",
    "    i = i+1\n",
    "    numeros[j] = navegador.find_element(By.XPATH, f'//*[@id=\"ulDezenas\"]/li[{i}]').text\n",
    "    j = j+1\n"
   ]
  },
  {
   "cell_type": "code",
   "execution_count": null,
   "metadata": {},
   "outputs": [],
   "source": [
    "# Pegando as informações e colocando em variáveis\n",
    "concurso = info_concurso[9:13]\n",
    "data = info_concurso[-11:-1]"
   ]
  },
  {
   "cell_type": "code",
   "execution_count": null,
   "metadata": {},
   "outputs": [],
   "source": [
    "# Exibindo as informações\n",
    "print(info_concurso)\n",
    "print(\"Dezenas:\", numeros)\n",
    "print(\"Concurso:\", concurso)\n",
    "print(\"Data:\", data)\n"
   ]
  },
  {
   "cell_type": "code",
   "execution_count": null,
   "metadata": {},
   "outputs": [],
   "source": [
    "# Inserindo as informações do concurso 1000 no Data Frame\n",
    "sorteios.loc[len(sorteios)] = [data, concurso, numeros[0], numeros[1], numeros[2], numeros[3], numeros[4], numeros[5]]\n",
    "sorteios"
   ]
  },
  {
   "cell_type": "markdown",
   "metadata": {},
   "source": [
    "## RESUMO"
   ]
  },
  {
   "cell_type": "code",
   "execution_count": 36,
   "metadata": {},
   "outputs": [
    {
     "name": "stderr",
     "output_type": "stream",
     "text": [
      "C:\\Users\\fdgce\\AppData\\Local\\Temp\\ipykernel_12044\\881746509.py:11: DeprecationWarning: executable_path has been deprecated, please pass in a Service object\n",
      "  navegador = webdriver.Chrome('C:\\Program Files\\Google\\Chrome\\chromedriver.exe')\n"
     ]
    }
   ],
   "source": [
    "# Importando as bibliotecas \n",
    "from selenium import webdriver\n",
    "from selenium.webdriver.chrome.service import Service\n",
    "from selenium.webdriver.common.keys import Keys\n",
    "from webdriver_manager.chrome import ChromeDriverManager\n",
    "from selenium.webdriver.common.by import By # classe BY\n",
    "import pandas as pd\n",
    "import time\n",
    "\n",
    "# Abrindo navegador e selecionando chromedriver.exe na pasta local do computador\n",
    "navegador = webdriver.Chrome('C:\\Program Files\\Google\\Chrome\\chromedriver.exe')\n",
    "\n",
    "# Abrindo o site desejado - Mega Sena\n",
    "link = ('https://loterias.caixa.gov.br/Paginas/Mega-Sena.aspx')\n",
    "navegador.get(link)\n",
    "navegador.maximize_window()"
   ]
  },
  {
   "cell_type": "code",
   "execution_count": 37,
   "metadata": {},
   "outputs": [
    {
     "data": {
      "text/html": [
       "<div>\n",
       "<style scoped>\n",
       "    .dataframe tbody tr th:only-of-type {\n",
       "        vertical-align: middle;\n",
       "    }\n",
       "\n",
       "    .dataframe tbody tr th {\n",
       "        vertical-align: top;\n",
       "    }\n",
       "\n",
       "    .dataframe thead th {\n",
       "        text-align: right;\n",
       "    }\n",
       "</style>\n",
       "<table border=\"1\" class=\"dataframe\">\n",
       "  <thead>\n",
       "    <tr style=\"text-align: right;\">\n",
       "      <th></th>\n",
       "      <th>Data</th>\n",
       "      <th>Concurso</th>\n",
       "      <th>Num 1</th>\n",
       "      <th>Num 2</th>\n",
       "      <th>Num 3</th>\n",
       "      <th>Num 4</th>\n",
       "      <th>Num 5</th>\n",
       "      <th>Num 6</th>\n",
       "    </tr>\n",
       "  </thead>\n",
       "  <tbody>\n",
       "  </tbody>\n",
       "</table>\n",
       "</div>"
      ],
      "text/plain": [
       "Empty DataFrame\n",
       "Columns: [Data, Concurso, Num 1, Num 2, Num 3, Num 4, Num 5, Num 6]\n",
       "Index: []"
      ]
     },
     "execution_count": 37,
     "metadata": {},
     "output_type": "execute_result"
    }
   ],
   "source": [
    "sorteios = pd.DataFrame(columns = [\"Data\", \"Concurso\", \"Num 1\", \"Num 2\", \"Num 3\", \"Num 4\", \"Num 5\", \"Num 6\"])\n",
    "sorteios"
   ]
  },
  {
   "cell_type": "code",
   "execution_count": 38,
   "metadata": {},
   "outputs": [
    {
     "name": "stdout",
     "output_type": "stream",
     "text": [
      "25\n",
      "05\n",
      "30\n",
      "33\n",
      "41\n",
      "52\n",
      "04\n",
      "37\n",
      "39\n",
      "41\n",
      "43\n",
      "49\n",
      "09\n",
      "37\n",
      "29\n",
      "30\n",
      "36\n",
      "47\n",
      "10\n",
      "11\n",
      "29\n"
     ]
    },
    {
     "ename": "StaleElementReferenceException",
     "evalue": "Message: stale element reference: element is not attached to the page document\n  (Session info: chrome=107.0.5304.122)\nStacktrace:\nBacktrace:\n\tOrdinal0 [0x00A71ED3+2236115]\n\tOrdinal0 [0x00A092F1+1807089]\n\tOrdinal0 [0x009166FD+812797]\n\tOrdinal0 [0x009192B4+823988]\n\tOrdinal0 [0x00919165+823653]\n\tOrdinal0 [0x00919400+824320]\n\tOrdinal0 [0x00940FD7+987095]\n\tOrdinal0 [0x00961A8C+1120908]\n\tOrdinal0 [0x0093BD84+966020]\n\tOrdinal0 [0x00961CA4+1121444]\n\tOrdinal0 [0x009759E2+1202658]\n\tOrdinal0 [0x009618A6+1120422]\n\tOrdinal0 [0x0093A73D+960317]\n\tOrdinal0 [0x0093B71F+964383]\n\tGetHandleVerifier [0x00D1E7E2+2743074]\n\tGetHandleVerifier [0x00D108D4+2685972]\n\tGetHandleVerifier [0x00B02BAA+532202]\n\tGetHandleVerifier [0x00B01990+527568]\n\tOrdinal0 [0x00A1080C+1837068]\n\tOrdinal0 [0x00A14CD8+1854680]\n\tOrdinal0 [0x00A14DC5+1854917]\n\tOrdinal0 [0x00A1ED64+1895780]\n\tBaseThreadInitThunk [0x7770FEF9+25]\n\tRtlGetAppContainerNamedObjectPath [0x77857BBE+286]\n\tRtlGetAppContainerNamedObjectPath [0x77857B8E+238]\n",
     "output_type": "error",
     "traceback": [
      "\u001b[1;31m---------------------------------------------------------------------------\u001b[0m",
      "\u001b[1;31mStaleElementReferenceException\u001b[0m            Traceback (most recent call last)",
      "Cell \u001b[1;32mIn [38], line 36\u001b[0m\n\u001b[0;32m     34\u001b[0m \u001b[39mfor\u001b[39;00m i \u001b[39min\u001b[39;00m \u001b[39mrange\u001b[39m(\u001b[39m6\u001b[39m):\n\u001b[0;32m     35\u001b[0m     i \u001b[39m=\u001b[39m i\u001b[39m+\u001b[39m\u001b[39m1\u001b[39m\n\u001b[1;32m---> 36\u001b[0m     numeros[j] \u001b[39m=\u001b[39m navegador\u001b[39m.\u001b[39;49mfind_element(By\u001b[39m.\u001b[39;49mXPATH, \u001b[39mf\u001b[39;49m\u001b[39m'\u001b[39;49m\u001b[39m//*[@id=\u001b[39;49m\u001b[39m\"\u001b[39;49m\u001b[39mulDezenas\u001b[39;49m\u001b[39m\"\u001b[39;49m\u001b[39m]/li[\u001b[39;49m\u001b[39m{\u001b[39;49;00mi\u001b[39m}\u001b[39;49;00m\u001b[39m]\u001b[39;49m\u001b[39m'\u001b[39;49m)\u001b[39m.\u001b[39;49mtext\n\u001b[0;32m     37\u001b[0m     \u001b[39mprint\u001b[39m(numeros[j])\n\u001b[0;32m     38\u001b[0m     j \u001b[39m+\u001b[39m\u001b[39m=\u001b[39m \u001b[39m1\u001b[39m\n",
      "File \u001b[1;32mc:\\Users\\fdgce\\AppData\\Local\\Programs\\Python\\Python310\\lib\\site-packages\\selenium\\webdriver\\remote\\webelement.py:84\u001b[0m, in \u001b[0;36mWebElement.text\u001b[1;34m(self)\u001b[0m\n\u001b[0;32m     81\u001b[0m \u001b[39m@property\u001b[39m\n\u001b[0;32m     82\u001b[0m \u001b[39mdef\u001b[39;00m \u001b[39mtext\u001b[39m(\u001b[39mself\u001b[39m) \u001b[39m-\u001b[39m\u001b[39m>\u001b[39m \u001b[39mstr\u001b[39m:\n\u001b[0;32m     83\u001b[0m     \u001b[39m\"\"\"The text of the element.\"\"\"\u001b[39;00m\n\u001b[1;32m---> 84\u001b[0m     \u001b[39mreturn\u001b[39;00m \u001b[39mself\u001b[39;49m\u001b[39m.\u001b[39;49m_execute(Command\u001b[39m.\u001b[39;49mGET_ELEMENT_TEXT)[\u001b[39m'\u001b[39m\u001b[39mvalue\u001b[39m\u001b[39m'\u001b[39m]\n",
      "File \u001b[1;32mc:\\Users\\fdgce\\AppData\\Local\\Programs\\Python\\Python310\\lib\\site-packages\\selenium\\webdriver\\remote\\webelement.py:396\u001b[0m, in \u001b[0;36mWebElement._execute\u001b[1;34m(self, command, params)\u001b[0m\n\u001b[0;32m    394\u001b[0m     params \u001b[39m=\u001b[39m {}\n\u001b[0;32m    395\u001b[0m params[\u001b[39m'\u001b[39m\u001b[39mid\u001b[39m\u001b[39m'\u001b[39m] \u001b[39m=\u001b[39m \u001b[39mself\u001b[39m\u001b[39m.\u001b[39m_id\n\u001b[1;32m--> 396\u001b[0m \u001b[39mreturn\u001b[39;00m \u001b[39mself\u001b[39;49m\u001b[39m.\u001b[39;49m_parent\u001b[39m.\u001b[39;49mexecute(command, params)\n",
      "File \u001b[1;32mc:\\Users\\fdgce\\AppData\\Local\\Programs\\Python\\Python310\\lib\\site-packages\\selenium\\webdriver\\remote\\webdriver.py:429\u001b[0m, in \u001b[0;36mWebDriver.execute\u001b[1;34m(self, driver_command, params)\u001b[0m\n\u001b[0;32m    427\u001b[0m response \u001b[39m=\u001b[39m \u001b[39mself\u001b[39m\u001b[39m.\u001b[39mcommand_executor\u001b[39m.\u001b[39mexecute(driver_command, params)\n\u001b[0;32m    428\u001b[0m \u001b[39mif\u001b[39;00m response:\n\u001b[1;32m--> 429\u001b[0m     \u001b[39mself\u001b[39;49m\u001b[39m.\u001b[39;49merror_handler\u001b[39m.\u001b[39;49mcheck_response(response)\n\u001b[0;32m    430\u001b[0m     response[\u001b[39m'\u001b[39m\u001b[39mvalue\u001b[39m\u001b[39m'\u001b[39m] \u001b[39m=\u001b[39m \u001b[39mself\u001b[39m\u001b[39m.\u001b[39m_unwrap_value(\n\u001b[0;32m    431\u001b[0m         response\u001b[39m.\u001b[39mget(\u001b[39m'\u001b[39m\u001b[39mvalue\u001b[39m\u001b[39m'\u001b[39m, \u001b[39mNone\u001b[39;00m))\n\u001b[0;32m    432\u001b[0m     \u001b[39mreturn\u001b[39;00m response\n",
      "File \u001b[1;32mc:\\Users\\fdgce\\AppData\\Local\\Programs\\Python\\Python310\\lib\\site-packages\\selenium\\webdriver\\remote\\errorhandler.py:243\u001b[0m, in \u001b[0;36mErrorHandler.check_response\u001b[1;34m(self, response)\u001b[0m\n\u001b[0;32m    241\u001b[0m         alert_text \u001b[39m=\u001b[39m value[\u001b[39m'\u001b[39m\u001b[39malert\u001b[39m\u001b[39m'\u001b[39m]\u001b[39m.\u001b[39mget(\u001b[39m'\u001b[39m\u001b[39mtext\u001b[39m\u001b[39m'\u001b[39m)\n\u001b[0;32m    242\u001b[0m     \u001b[39mraise\u001b[39;00m exception_class(message, screen, stacktrace, alert_text)  \u001b[39m# type: ignore[call-arg]  # mypy is not smart enough here\u001b[39;00m\n\u001b[1;32m--> 243\u001b[0m \u001b[39mraise\u001b[39;00m exception_class(message, screen, stacktrace)\n",
      "\u001b[1;31mStaleElementReferenceException\u001b[0m: Message: stale element reference: element is not attached to the page document\n  (Session info: chrome=107.0.5304.122)\nStacktrace:\nBacktrace:\n\tOrdinal0 [0x00A71ED3+2236115]\n\tOrdinal0 [0x00A092F1+1807089]\n\tOrdinal0 [0x009166FD+812797]\n\tOrdinal0 [0x009192B4+823988]\n\tOrdinal0 [0x00919165+823653]\n\tOrdinal0 [0x00919400+824320]\n\tOrdinal0 [0x00940FD7+987095]\n\tOrdinal0 [0x00961A8C+1120908]\n\tOrdinal0 [0x0093BD84+966020]\n\tOrdinal0 [0x00961CA4+1121444]\n\tOrdinal0 [0x009759E2+1202658]\n\tOrdinal0 [0x009618A6+1120422]\n\tOrdinal0 [0x0093A73D+960317]\n\tOrdinal0 [0x0093B71F+964383]\n\tGetHandleVerifier [0x00D1E7E2+2743074]\n\tGetHandleVerifier [0x00D108D4+2685972]\n\tGetHandleVerifier [0x00B02BAA+532202]\n\tGetHandleVerifier [0x00B01990+527568]\n\tOrdinal0 [0x00A1080C+1837068]\n\tOrdinal0 [0x00A14CD8+1854680]\n\tOrdinal0 [0x00A14DC5+1854917]\n\tOrdinal0 [0x00A1ED64+1895780]\n\tBaseThreadInitThunk [0x7770FEF9+25]\n\tRtlGetAppContainerNamedObjectPath [0x77857BBE+286]\n\tRtlGetAppContainerNamedObjectPath [0x77857B8E+238]\n"
     ]
    }
   ],
   "source": [
    "info_concurso = navegador.find_element(By.XPATH, '//*[@id=\"wp_resultados\"]/div[1]/div/h2/span').text\n",
    "concurso = int(info_concurso[9:13])\n",
    "inicio_contador = concurso\n",
    "\n",
    "# Pegando as dezenas\n",
    "numeros = ['', '', '', '', '', ''] \n",
    "\n",
    "for cont in range(inicio_contador):\n",
    "    j = 0\n",
    "    cont = cont + 1\n",
    "    navegador.find_element(By.XPATH, '//*[@id=\"buscaConcurso\"]').click()\n",
    "    navegador.find_element(By.XPATH, '//*[@id=\"buscaConcurso\"]').clear()\n",
    "    navegador.find_element(By.XPATH, '//*[@id=\"buscaConcurso\"]').send_keys(cont)\n",
    "    time.sleep(1)\n",
    "    navegador.find_element(By.XPATH, '//*[@id=\"buscaConcurso\"]').send_keys(Keys.ENTER)\n",
    "    data = info_concurso[-11:-1]\n",
    "\n",
    "    # Até 0 9º sorteio len = 23\n",
    "    if len(info_concurso) == 23:\n",
    "        concurso = int(info_concurso[9])\n",
    "\n",
    "        # Até 0 99º sorteio len = 24\n",
    "    elif len(info_concurso) == 24:\n",
    "        concurso = int(info_concurso[9:11])\n",
    "    \n",
    "    # Até 0 99º sorteio len = 25\n",
    "    elif len(info_concurso) == 25:\n",
    "        concurso = int(info_concurso[9:12])\n",
    "    \n",
    "    # Acima de 999 len = 26\n",
    "    elif len(info_concurso) == 26:\n",
    "         concurso = int(info_concurso[9:13])\n",
    "\n",
    "    for i in range(6):\n",
    "        i = i+1\n",
    "        time.sleep(1)\n",
    "        numeros[j] = navegador.find_element(By.XPATH, f'//*[@id=\"ulDezenas\"]/li[{i}]').text\n",
    "        j += 1\n",
    "    \n",
    "    sorteios.loc[len(sorteios)] = [data, concurso, numeros[0], numeros[1], numeros[2], numeros[3], numeros[4], numeros[5]]\n",
    "    info_concurso = navegador.find_element(By.XPATH, '//*[@id=\"wp_resultados\"]/div[1]/div/h2/span').text\n",
    "    \n",
    "\n"
   ]
  },
  {
   "cell_type": "code",
   "execution_count": 39,
   "metadata": {},
   "outputs": [
    {
     "data": {
      "text/html": [
       "<div>\n",
       "<style scoped>\n",
       "    .dataframe tbody tr th:only-of-type {\n",
       "        vertical-align: middle;\n",
       "    }\n",
       "\n",
       "    .dataframe tbody tr th {\n",
       "        vertical-align: top;\n",
       "    }\n",
       "\n",
       "    .dataframe thead th {\n",
       "        text-align: right;\n",
       "    }\n",
       "</style>\n",
       "<table border=\"1\" class=\"dataframe\">\n",
       "  <thead>\n",
       "    <tr style=\"text-align: right;\">\n",
       "      <th></th>\n",
       "      <th>Data</th>\n",
       "      <th>Concurso</th>\n",
       "      <th>Num 1</th>\n",
       "      <th>Num 2</th>\n",
       "      <th>Num 3</th>\n",
       "      <th>Num 4</th>\n",
       "      <th>Num 5</th>\n",
       "      <th>Num 6</th>\n",
       "    </tr>\n",
       "  </thead>\n",
       "  <tbody>\n",
       "    <tr>\n",
       "      <th>0</th>\n",
       "      <td>30/11/2022</td>\n",
       "      <td>2544</td>\n",
       "      <td>25</td>\n",
       "      <td>05</td>\n",
       "      <td>30</td>\n",
       "      <td>33</td>\n",
       "      <td>41</td>\n",
       "      <td>52</td>\n",
       "    </tr>\n",
       "    <tr>\n",
       "      <th>1</th>\n",
       "      <td>11/03/1996</td>\n",
       "      <td>1</td>\n",
       "      <td>04</td>\n",
       "      <td>37</td>\n",
       "      <td>39</td>\n",
       "      <td>41</td>\n",
       "      <td>43</td>\n",
       "      <td>49</td>\n",
       "    </tr>\n",
       "    <tr>\n",
       "      <th>2</th>\n",
       "      <td>18/03/1996</td>\n",
       "      <td>2</td>\n",
       "      <td>09</td>\n",
       "      <td>37</td>\n",
       "      <td>29</td>\n",
       "      <td>30</td>\n",
       "      <td>36</td>\n",
       "      <td>47</td>\n",
       "    </tr>\n",
       "  </tbody>\n",
       "</table>\n",
       "</div>"
      ],
      "text/plain": [
       "         Data  Concurso Num 1 Num 2 Num 3 Num 4 Num 5 Num 6\n",
       "0  30/11/2022      2544    25    05    30    33    41    52\n",
       "1  11/03/1996         1    04    37    39    41    43    49\n",
       "2  18/03/1996         2    09    37    29    30    36    47"
      ]
     },
     "execution_count": 39,
     "metadata": {},
     "output_type": "execute_result"
    }
   ],
   "source": [
    "sorteios"
   ]
  },
  {
   "cell_type": "code",
   "execution_count": 30,
   "metadata": {},
   "outputs": [],
   "source": [
    "numeros[j] = navegador.find_element(By.XPATH, f'//*[@id=\"ulDezenas\"]/li[{i}]').text"
   ]
  },
  {
   "cell_type": "code",
   "execution_count": 31,
   "metadata": {},
   "outputs": [
    {
     "data": {
      "text/plain": [
       "['04', '05', '30', '33', '41', '49']"
      ]
     },
     "execution_count": 31,
     "metadata": {},
     "output_type": "execute_result"
    }
   ],
   "source": [
    "numeros"
   ]
  },
  {
   "cell_type": "code",
   "execution_count": null,
   "metadata": {},
   "outputs": [],
   "source": []
  },
  {
   "cell_type": "code",
   "execution_count": null,
   "metadata": {},
   "outputs": [],
   "source": []
  },
  {
   "cell_type": "code",
   "execution_count": null,
   "metadata": {},
   "outputs": [],
   "source": []
  },
  {
   "cell_type": "code",
   "execution_count": null,
   "metadata": {},
   "outputs": [],
   "source": []
  },
  {
   "cell_type": "code",
   "execution_count": null,
   "metadata": {},
   "outputs": [],
   "source": []
  },
  {
   "cell_type": "code",
   "execution_count": null,
   "metadata": {},
   "outputs": [],
   "source": []
  },
  {
   "cell_type": "code",
   "execution_count": null,
   "metadata": {},
   "outputs": [],
   "source": []
  },
  {
   "cell_type": "code",
   "execution_count": null,
   "metadata": {},
   "outputs": [],
   "source": []
  },
  {
   "cell_type": "code",
   "execution_count": null,
   "metadata": {},
   "outputs": [],
   "source": []
  },
  {
   "cell_type": "code",
   "execution_count": null,
   "metadata": {},
   "outputs": [],
   "source": []
  },
  {
   "cell_type": "code",
   "execution_count": null,
   "metadata": {},
   "outputs": [],
   "source": []
  },
  {
   "cell_type": "code",
   "execution_count": null,
   "metadata": {},
   "outputs": [],
   "source": []
  },
  {
   "cell_type": "code",
   "execution_count": null,
   "metadata": {},
   "outputs": [],
   "source": []
  },
  {
   "cell_type": "code",
   "execution_count": null,
   "metadata": {},
   "outputs": [],
   "source": []
  },
  {
   "cell_type": "code",
   "execution_count": null,
   "metadata": {},
   "outputs": [],
   "source": []
  },
  {
   "cell_type": "code",
   "execution_count": null,
   "metadata": {},
   "outputs": [],
   "source": []
  },
  {
   "cell_type": "code",
   "execution_count": null,
   "metadata": {},
   "outputs": [],
   "source": []
  },
  {
   "cell_type": "code",
   "execution_count": null,
   "metadata": {},
   "outputs": [],
   "source": []
  },
  {
   "cell_type": "code",
   "execution_count": null,
   "metadata": {},
   "outputs": [],
   "source": []
  }
 ],
 "metadata": {
  "kernelspec": {
   "display_name": "Python 3.10.7 64-bit",
   "language": "python",
   "name": "python3"
  },
  "language_info": {
   "codemirror_mode": {
    "name": "ipython",
    "version": 3
   },
   "file_extension": ".py",
   "mimetype": "text/x-python",
   "name": "python",
   "nbconvert_exporter": "python",
   "pygments_lexer": "ipython3",
   "version": "3.10.7"
  },
  "orig_nbformat": 4,
  "vscode": {
   "interpreter": {
    "hash": "99bf3107952ea242b5decbdfafbbd4117feaebf715574d2cdb3a3b952b6a1e5a"
   }
  }
 },
 "nbformat": 4,
 "nbformat_minor": 2
}
